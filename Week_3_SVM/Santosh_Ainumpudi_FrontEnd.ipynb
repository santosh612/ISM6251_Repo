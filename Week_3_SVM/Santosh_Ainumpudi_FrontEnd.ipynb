{
 "cells": [
  {
   "cell_type": "code",
   "execution_count": 1,
   "id": "748a69bb",
   "metadata": {},
   "outputs": [
    {
     "name": "stdout",
     "output_type": "stream",
     "text": [
      "\n",
      "*******\n",
      "* rm Ownership Prediction Model *\n",
      "*******\n",
      "\n",
      "Enter the Income: 60\n",
      "Enter the Lotsize: 18.4\n",
      "\n",
      " As per the ridingmower ownership we have predicted the model 0.3184, therefore it is indicated as: Owner.\n",
      "\n"
     ]
    }
   ],
   "source": [
    "import pandas as pd\n",
    "import numpy as np\n",
    "import matplotlib.pyplot as plt\n",
    "from sklearn.metrics import confusion_matrix\n",
    "\n",
    "import pickle\n",
    "\n",
    "\n",
    "rm_model = pickle.load(open(\"santosh_WE03.csv\", \"rb\"))\n",
    "\n",
    "print(\"\\n*******\")\n",
    "print(\"* rm Ownership Prediction Model *\")\n",
    "print(\"*******\\n\")\n",
    "Income = float(input(\"Enter the Income: \"))\n",
    "Lot_Size= float(input(\"Enter the Lotsize: \"))\n",
    "df = pd.DataFrame({'Income': [Income], 'Lot_Size': [Lot_Size]})\n",
    "result = rm_model.predict(df)\n",
    "probability = rm_model.predict_proba(df)\n",
    "Ownership = ('Owner', 'Nonowner')\n",
    "print(f\"\\n As per the ridingmower ownership we have predicted the model {probability[0][1]:.4f}, therefore it is indicated as: {Ownership[result[0]]}.\\n\")"
   ]
  },
  {
   "cell_type": "code",
   "execution_count": null,
   "id": "1a65270e",
   "metadata": {},
   "outputs": [],
   "source": []
  }
 ],
 "metadata": {
  "kernelspec": {
   "display_name": "Python 3 (ipykernel)",
   "language": "python",
   "name": "python3"
  },
  "language_info": {
   "codemirror_mode": {
    "name": "ipython",
    "version": 3
   },
   "file_extension": ".py",
   "mimetype": "text/x-python",
   "name": "python",
   "nbconvert_exporter": "python",
   "pygments_lexer": "ipython3",
   "version": "3.9.13"
  }
 },
 "nbformat": 4,
 "nbformat_minor": 5
}
