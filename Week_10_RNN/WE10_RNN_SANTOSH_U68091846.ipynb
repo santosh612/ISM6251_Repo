{
 "cells": [
  {
   "cell_type": "code",
   "execution_count": 1,
   "id": "ed7890fa",
   "metadata": {},
   "outputs": [],
   "source": [
    "import tensorflow as tf\n",
    "from tensorflow import keras\n",
    "from sklearn.metrics import mean_squared_error\n",
    "\n",
    "\n",
    "# Common imports\n",
    "import numpy as np\n",
    "import os\n",
    "import datetime as dt\n",
    "# to make this notebook's output stable across runs\n",
    "np.random.seed(42)\n",
    "import seaborn as sns\n",
    "# To plot pretty figures\n",
    "%matplotlib inline\n",
    "import matplotlib as mpl\n",
    "import matplotlib.pyplot as plt\n",
    "mpl.rc('axes', labelsize=14)\n",
    "mpl.rc('xtick', labelsize=12)\n",
    "mpl.rc('ytick', labelsize=12)\n",
    "import pandas as pd\n",
    "import yfinance as yf\n"
   ]
  },
  {
   "cell_type": "code",
   "execution_count": 2,
   "id": "c5e329a7",
   "metadata": {},
   "outputs": [
    {
     "name": "stdout",
     "output_type": "stream",
     "text": [
      "[*********************100%***********************]  1 of 1 completed\n"
     ]
    }
   ],
   "source": [
    "lyft = yf.download(tickers='LYFT', period='100d', interval='1d')"
   ]
  },
  {
   "cell_type": "code",
   "execution_count": 3,
   "id": "872a7130",
   "metadata": {},
   "outputs": [
    {
     "data": {
      "text/html": [
       "<div>\n",
       "<style scoped>\n",
       "    .dataframe tbody tr th:only-of-type {\n",
       "        vertical-align: middle;\n",
       "    }\n",
       "\n",
       "    .dataframe tbody tr th {\n",
       "        vertical-align: top;\n",
       "    }\n",
       "\n",
       "    .dataframe thead th {\n",
       "        text-align: right;\n",
       "    }\n",
       "</style>\n",
       "<table border=\"1\" class=\"dataframe\">\n",
       "  <thead>\n",
       "    <tr style=\"text-align: right;\">\n",
       "      <th></th>\n",
       "      <th>Open</th>\n",
       "      <th>High</th>\n",
       "      <th>Low</th>\n",
       "      <th>Close</th>\n",
       "      <th>Adj Close</th>\n",
       "      <th>Volume</th>\n",
       "    </tr>\n",
       "    <tr>\n",
       "      <th>Date</th>\n",
       "      <th></th>\n",
       "      <th></th>\n",
       "      <th></th>\n",
       "      <th></th>\n",
       "      <th></th>\n",
       "      <th></th>\n",
       "    </tr>\n",
       "  </thead>\n",
       "  <tbody>\n",
       "    <tr>\n",
       "      <th>2022-11-28</th>\n",
       "      <td>10.97</td>\n",
       "      <td>11.090</td>\n",
       "      <td>10.69</td>\n",
       "      <td>10.70</td>\n",
       "      <td>10.70</td>\n",
       "      <td>10906300</td>\n",
       "    </tr>\n",
       "    <tr>\n",
       "      <th>2022-11-29</th>\n",
       "      <td>10.81</td>\n",
       "      <td>11.150</td>\n",
       "      <td>10.59</td>\n",
       "      <td>10.76</td>\n",
       "      <td>10.76</td>\n",
       "      <td>13346800</td>\n",
       "    </tr>\n",
       "    <tr>\n",
       "      <th>2022-11-30</th>\n",
       "      <td>10.72</td>\n",
       "      <td>11.250</td>\n",
       "      <td>10.48</td>\n",
       "      <td>11.22</td>\n",
       "      <td>11.22</td>\n",
       "      <td>31346900</td>\n",
       "    </tr>\n",
       "    <tr>\n",
       "      <th>2022-12-01</th>\n",
       "      <td>11.27</td>\n",
       "      <td>11.580</td>\n",
       "      <td>11.06</td>\n",
       "      <td>11.20</td>\n",
       "      <td>11.20</td>\n",
       "      <td>10777400</td>\n",
       "    </tr>\n",
       "    <tr>\n",
       "      <th>2022-12-02</th>\n",
       "      <td>10.91</td>\n",
       "      <td>11.120</td>\n",
       "      <td>10.71</td>\n",
       "      <td>11.10</td>\n",
       "      <td>11.10</td>\n",
       "      <td>10285500</td>\n",
       "    </tr>\n",
       "    <tr>\n",
       "      <th>...</th>\n",
       "      <td>...</td>\n",
       "      <td>...</td>\n",
       "      <td>...</td>\n",
       "      <td>...</td>\n",
       "      <td>...</td>\n",
       "      <td>...</td>\n",
       "    </tr>\n",
       "    <tr>\n",
       "      <th>2023-04-17</th>\n",
       "      <td>10.21</td>\n",
       "      <td>10.475</td>\n",
       "      <td>10.15</td>\n",
       "      <td>10.45</td>\n",
       "      <td>10.45</td>\n",
       "      <td>13894100</td>\n",
       "    </tr>\n",
       "    <tr>\n",
       "      <th>2023-04-18</th>\n",
       "      <td>10.54</td>\n",
       "      <td>10.550</td>\n",
       "      <td>10.13</td>\n",
       "      <td>10.31</td>\n",
       "      <td>10.31</td>\n",
       "      <td>12387700</td>\n",
       "    </tr>\n",
       "    <tr>\n",
       "      <th>2023-04-19</th>\n",
       "      <td>10.17</td>\n",
       "      <td>10.405</td>\n",
       "      <td>9.90</td>\n",
       "      <td>10.27</td>\n",
       "      <td>10.27</td>\n",
       "      <td>13434000</td>\n",
       "    </tr>\n",
       "    <tr>\n",
       "      <th>2023-04-20</th>\n",
       "      <td>10.09</td>\n",
       "      <td>10.210</td>\n",
       "      <td>9.75</td>\n",
       "      <td>9.84</td>\n",
       "      <td>9.84</td>\n",
       "      <td>15183700</td>\n",
       "    </tr>\n",
       "    <tr>\n",
       "      <th>2023-04-21</th>\n",
       "      <td>9.85</td>\n",
       "      <td>10.520</td>\n",
       "      <td>9.57</td>\n",
       "      <td>10.44</td>\n",
       "      <td>10.44</td>\n",
       "      <td>46630700</td>\n",
       "    </tr>\n",
       "  </tbody>\n",
       "</table>\n",
       "<p>100 rows × 6 columns</p>\n",
       "</div>"
      ],
      "text/plain": [
       "             Open    High    Low  Close  Adj Close    Volume\n",
       "Date                                                        \n",
       "2022-11-28  10.97  11.090  10.69  10.70      10.70  10906300\n",
       "2022-11-29  10.81  11.150  10.59  10.76      10.76  13346800\n",
       "2022-11-30  10.72  11.250  10.48  11.22      11.22  31346900\n",
       "2022-12-01  11.27  11.580  11.06  11.20      11.20  10777400\n",
       "2022-12-02  10.91  11.120  10.71  11.10      11.10  10285500\n",
       "...           ...     ...    ...    ...        ...       ...\n",
       "2023-04-17  10.21  10.475  10.15  10.45      10.45  13894100\n",
       "2023-04-18  10.54  10.550  10.13  10.31      10.31  12387700\n",
       "2023-04-19  10.17  10.405   9.90  10.27      10.27  13434000\n",
       "2023-04-20  10.09  10.210   9.75   9.84       9.84  15183700\n",
       "2023-04-21   9.85  10.520   9.57  10.44      10.44  46630700\n",
       "\n",
       "[100 rows x 6 columns]"
      ]
     },
     "execution_count": 3,
     "metadata": {},
     "output_type": "execute_result"
    }
   ],
   "source": [
    "lyft"
   ]
  },
  {
   "cell_type": "code",
   "execution_count": 4,
   "id": "31eb500c",
   "metadata": {},
   "outputs": [
    {
     "data": {
      "text/plain": [
       "<bound method NDFrame.to_csv of              Open    High    Low  Close  Adj Close    Volume\n",
       "Date                                                        \n",
       "2022-11-28  10.97  11.090  10.69  10.70      10.70  10906300\n",
       "2022-11-29  10.81  11.150  10.59  10.76      10.76  13346800\n",
       "2022-11-30  10.72  11.250  10.48  11.22      11.22  31346900\n",
       "2022-12-01  11.27  11.580  11.06  11.20      11.20  10777400\n",
       "2022-12-02  10.91  11.120  10.71  11.10      11.10  10285500\n",
       "...           ...     ...    ...    ...        ...       ...\n",
       "2023-04-17  10.21  10.475  10.15  10.45      10.45  13894100\n",
       "2023-04-18  10.54  10.550  10.13  10.31      10.31  12387700\n",
       "2023-04-19  10.17  10.405   9.90  10.27      10.27  13434000\n",
       "2023-04-20  10.09  10.210   9.75   9.84       9.84  15183700\n",
       "2023-04-21   9.85  10.520   9.57  10.44      10.44  46630700\n",
       "\n",
       "[100 rows x 6 columns]>"
      ]
     },
     "execution_count": 4,
     "metadata": {},
     "output_type": "execute_result"
    }
   ],
   "source": [
    "lyft.to_csv"
   ]
  },
  {
   "cell_type": "code",
   "execution_count": 5,
   "id": "afdd7687",
   "metadata": {},
   "outputs": [],
   "source": [
    "lyft.to_csv('lyft.csv', index=True)\n"
   ]
  },
  {
   "cell_type": "code",
   "execution_count": null,
   "id": "c7a1a215",
   "metadata": {},
   "outputs": [],
   "source": []
  },
  {
   "cell_type": "code",
   "execution_count": 6,
   "id": "f3dac083",
   "metadata": {},
   "outputs": [
    {
     "data": {
      "text/html": [
       "<div>\n",
       "<style scoped>\n",
       "    .dataframe tbody tr th:only-of-type {\n",
       "        vertical-align: middle;\n",
       "    }\n",
       "\n",
       "    .dataframe tbody tr th {\n",
       "        vertical-align: top;\n",
       "    }\n",
       "\n",
       "    .dataframe thead th {\n",
       "        text-align: right;\n",
       "    }\n",
       "</style>\n",
       "<table border=\"1\" class=\"dataframe\">\n",
       "  <thead>\n",
       "    <tr style=\"text-align: right;\">\n",
       "      <th></th>\n",
       "      <th>Date</th>\n",
       "      <th>Open</th>\n",
       "      <th>High</th>\n",
       "      <th>Low</th>\n",
       "      <th>Close</th>\n",
       "      <th>Adj Close</th>\n",
       "      <th>Volume</th>\n",
       "    </tr>\n",
       "  </thead>\n",
       "  <tbody>\n",
       "    <tr>\n",
       "      <th>0</th>\n",
       "      <td>2022-11-28</td>\n",
       "      <td>10.97</td>\n",
       "      <td>11.090</td>\n",
       "      <td>10.69</td>\n",
       "      <td>10.70</td>\n",
       "      <td>10.70</td>\n",
       "      <td>10906300</td>\n",
       "    </tr>\n",
       "    <tr>\n",
       "      <th>1</th>\n",
       "      <td>2022-11-29</td>\n",
       "      <td>10.81</td>\n",
       "      <td>11.150</td>\n",
       "      <td>10.59</td>\n",
       "      <td>10.76</td>\n",
       "      <td>10.76</td>\n",
       "      <td>13346800</td>\n",
       "    </tr>\n",
       "    <tr>\n",
       "      <th>2</th>\n",
       "      <td>2022-11-30</td>\n",
       "      <td>10.72</td>\n",
       "      <td>11.250</td>\n",
       "      <td>10.48</td>\n",
       "      <td>11.22</td>\n",
       "      <td>11.22</td>\n",
       "      <td>31346900</td>\n",
       "    </tr>\n",
       "    <tr>\n",
       "      <th>3</th>\n",
       "      <td>2022-12-01</td>\n",
       "      <td>11.27</td>\n",
       "      <td>11.580</td>\n",
       "      <td>11.06</td>\n",
       "      <td>11.20</td>\n",
       "      <td>11.20</td>\n",
       "      <td>10777400</td>\n",
       "    </tr>\n",
       "    <tr>\n",
       "      <th>4</th>\n",
       "      <td>2022-12-02</td>\n",
       "      <td>10.91</td>\n",
       "      <td>11.120</td>\n",
       "      <td>10.71</td>\n",
       "      <td>11.10</td>\n",
       "      <td>11.10</td>\n",
       "      <td>10285500</td>\n",
       "    </tr>\n",
       "    <tr>\n",
       "      <th>...</th>\n",
       "      <td>...</td>\n",
       "      <td>...</td>\n",
       "      <td>...</td>\n",
       "      <td>...</td>\n",
       "      <td>...</td>\n",
       "      <td>...</td>\n",
       "      <td>...</td>\n",
       "    </tr>\n",
       "    <tr>\n",
       "      <th>95</th>\n",
       "      <td>2023-04-17</td>\n",
       "      <td>10.21</td>\n",
       "      <td>10.475</td>\n",
       "      <td>10.15</td>\n",
       "      <td>10.45</td>\n",
       "      <td>10.45</td>\n",
       "      <td>13894100</td>\n",
       "    </tr>\n",
       "    <tr>\n",
       "      <th>96</th>\n",
       "      <td>2023-04-18</td>\n",
       "      <td>10.54</td>\n",
       "      <td>10.550</td>\n",
       "      <td>10.13</td>\n",
       "      <td>10.31</td>\n",
       "      <td>10.31</td>\n",
       "      <td>12387700</td>\n",
       "    </tr>\n",
       "    <tr>\n",
       "      <th>97</th>\n",
       "      <td>2023-04-19</td>\n",
       "      <td>10.17</td>\n",
       "      <td>10.405</td>\n",
       "      <td>9.90</td>\n",
       "      <td>10.27</td>\n",
       "      <td>10.27</td>\n",
       "      <td>13434000</td>\n",
       "    </tr>\n",
       "    <tr>\n",
       "      <th>98</th>\n",
       "      <td>2023-04-20</td>\n",
       "      <td>10.09</td>\n",
       "      <td>10.210</td>\n",
       "      <td>9.75</td>\n",
       "      <td>9.84</td>\n",
       "      <td>9.84</td>\n",
       "      <td>15183700</td>\n",
       "    </tr>\n",
       "    <tr>\n",
       "      <th>99</th>\n",
       "      <td>2023-04-21</td>\n",
       "      <td>9.85</td>\n",
       "      <td>10.520</td>\n",
       "      <td>9.57</td>\n",
       "      <td>10.44</td>\n",
       "      <td>10.44</td>\n",
       "      <td>46630700</td>\n",
       "    </tr>\n",
       "  </tbody>\n",
       "</table>\n",
       "<p>100 rows × 7 columns</p>\n",
       "</div>"
      ],
      "text/plain": [
       "         Date   Open    High    Low  Close  Adj Close    Volume\n",
       "0  2022-11-28  10.97  11.090  10.69  10.70      10.70  10906300\n",
       "1  2022-11-29  10.81  11.150  10.59  10.76      10.76  13346800\n",
       "2  2022-11-30  10.72  11.250  10.48  11.22      11.22  31346900\n",
       "3  2022-12-01  11.27  11.580  11.06  11.20      11.20  10777400\n",
       "4  2022-12-02  10.91  11.120  10.71  11.10      11.10  10285500\n",
       "..        ...    ...     ...    ...    ...        ...       ...\n",
       "95 2023-04-17  10.21  10.475  10.15  10.45      10.45  13894100\n",
       "96 2023-04-18  10.54  10.550  10.13  10.31      10.31  12387700\n",
       "97 2023-04-19  10.17  10.405   9.90  10.27      10.27  13434000\n",
       "98 2023-04-20  10.09  10.210   9.75   9.84       9.84  15183700\n",
       "99 2023-04-21   9.85  10.520   9.57  10.44      10.44  46630700\n",
       "\n",
       "[100 rows x 7 columns]"
      ]
     },
     "execution_count": 6,
     "metadata": {},
     "output_type": "execute_result"
    }
   ],
   "source": [
    "lyft.reset_index()"
   ]
  },
  {
   "cell_type": "code",
   "execution_count": 7,
   "id": "1c792dc2",
   "metadata": {},
   "outputs": [],
   "source": [
    "#Drop the columns Datewe don't need\n",
    "\n",
    "lyft=lyft[lyft.columns.difference(['Open', 'High', 'Low', 'Adj Close', 'Volume'])].reset_index()"
   ]
  },
  {
   "cell_type": "code",
   "execution_count": 8,
   "id": "b362ded5",
   "metadata": {},
   "outputs": [
    {
     "name": "stdout",
     "output_type": "stream",
     "text": [
      "<class 'pandas.core.frame.DataFrame'>\n",
      "RangeIndex: 100 entries, 0 to 99\n",
      "Data columns (total 2 columns):\n",
      " #   Column  Non-Null Count  Dtype         \n",
      "---  ------  --------------  -----         \n",
      " 0   Date    100 non-null    datetime64[ns]\n",
      " 1   Close   100 non-null    float64       \n",
      "dtypes: datetime64[ns](1), float64(1)\n",
      "memory usage: 1.7 KB\n"
     ]
    }
   ],
   "source": [
    "lyft.info()"
   ]
  },
  {
   "cell_type": "code",
   "execution_count": 9,
   "id": "cad248b3",
   "metadata": {},
   "outputs": [
    {
     "data": {
      "image/png": "[encoded data removed]",
      "text/plain": [
       "<Figure size 640x480 with 1 Axes>"
      ]
     },
     "metadata": {},
     "output_type": "display_data"
    }
   ],
   "source": [
    "#Plot close\n",
    "\n",
    "plt.plot(lyft['Close'])\n",
    "plt.show()"
   ]
  },
  {
   "cell_type": "code",
   "execution_count": 10,
   "id": "00b0f4c7",
   "metadata": {},
   "outputs": [
    {
     "data": {
      "image/png": "[encoded data removed]",
      "text/plain": [
       "<Figure size 640x480 with 1 Axes>"
      ]
     },
     "metadata": {},
     "output_type": "display_data"
    }
   ],
   "source": [
    "#Plot close\n",
    "\n",
    "plt.plot(lyft['Close'])\n",
    "plt.show()"
   ]
  },
  {
   "cell_type": "markdown",
   "id": "05167f3f",
   "metadata": {},
   "source": [
    "# RESHAPE the data set!"
   ]
  },
  {
   "cell_type": "code",
   "execution_count": 11,
   "id": "89a1a682",
   "metadata": {
    "scrolled": true
   },
   "outputs": [
    {
     "name": "stdout",
     "output_type": "stream",
     "text": [
      "<class 'pandas.core.frame.DataFrame'>\n",
      "RangeIndex: 100 entries, 0 to 99\n",
      "Data columns (total 2 columns):\n",
      " #   Column  Non-Null Count  Dtype         \n",
      "---  ------  --------------  -----         \n",
      " 0   Date    100 non-null    datetime64[ns]\n",
      " 1   Close   100 non-null    float64       \n",
      "dtypes: datetime64[ns](1), float64(1)\n",
      "memory usage: 1.7 KB\n"
     ]
    }
   ],
   "source": [
    "lyft.info()"
   ]
  },
  {
   "cell_type": "code",
   "execution_count": 12,
   "id": "4d681aac",
   "metadata": {},
   "outputs": [
    {
     "data": {
      "text/plain": [
       "(100, 2)"
      ]
     },
     "execution_count": 12,
     "metadata": {},
     "output_type": "execute_result"
    }
   ],
   "source": [
    "lyft.shape"
   ]
  },
  {
   "cell_type": "code",
   "execution_count": 13,
   "id": "b8776dad",
   "metadata": {},
   "outputs": [
    {
     "data": {
      "text/html": [
       "<div>\n",
       "<style scoped>\n",
       "    .dataframe tbody tr th:only-of-type {\n",
       "        vertical-align: middle;\n",
       "    }\n",
       "\n",
       "    .dataframe tbody tr th {\n",
       "        vertical-align: top;\n",
       "    }\n",
       "\n",
       "    .dataframe thead th {\n",
       "        text-align: right;\n",
       "    }\n",
       "</style>\n",
       "<table border=\"1\" class=\"dataframe\">\n",
       "  <thead>\n",
       "    <tr style=\"text-align: right;\">\n",
       "      <th></th>\n",
       "      <th>Close</th>\n",
       "    </tr>\n",
       "    <tr>\n",
       "      <th>Date</th>\n",
       "      <th></th>\n",
       "    </tr>\n",
       "  </thead>\n",
       "  <tbody>\n",
       "    <tr>\n",
       "      <th>2022-11-28</th>\n",
       "      <td>1</td>\n",
       "    </tr>\n",
       "    <tr>\n",
       "      <th>2022-11-29</th>\n",
       "      <td>1</td>\n",
       "    </tr>\n",
       "    <tr>\n",
       "      <th>2022-11-30</th>\n",
       "      <td>1</td>\n",
       "    </tr>\n",
       "    <tr>\n",
       "      <th>2022-12-01</th>\n",
       "      <td>1</td>\n",
       "    </tr>\n",
       "    <tr>\n",
       "      <th>2022-12-02</th>\n",
       "      <td>1</td>\n",
       "    </tr>\n",
       "    <tr>\n",
       "      <th>...</th>\n",
       "      <td>...</td>\n",
       "    </tr>\n",
       "    <tr>\n",
       "      <th>2023-04-17</th>\n",
       "      <td>1</td>\n",
       "    </tr>\n",
       "    <tr>\n",
       "      <th>2023-04-18</th>\n",
       "      <td>1</td>\n",
       "    </tr>\n",
       "    <tr>\n",
       "      <th>2023-04-19</th>\n",
       "      <td>1</td>\n",
       "    </tr>\n",
       "    <tr>\n",
       "      <th>2023-04-20</th>\n",
       "      <td>1</td>\n",
       "    </tr>\n",
       "    <tr>\n",
       "      <th>2023-04-21</th>\n",
       "      <td>1</td>\n",
       "    </tr>\n",
       "  </tbody>\n",
       "</table>\n",
       "<p>100 rows × 1 columns</p>\n",
       "</div>"
      ],
      "text/plain": [
       "            Close\n",
       "Date             \n",
       "2022-11-28      1\n",
       "2022-11-29      1\n",
       "2022-11-30      1\n",
       "2022-12-01      1\n",
       "2022-12-02      1\n",
       "...           ...\n",
       "2023-04-17      1\n",
       "2023-04-18      1\n",
       "2023-04-19      1\n",
       "2023-04-20      1\n",
       "2023-04-21      1\n",
       "\n",
       "[100 rows x 1 columns]"
      ]
     },
     "execution_count": 13,
     "metadata": {},
     "output_type": "execute_result"
    }
   ],
   "source": [
    "lyft.groupby(['Date']).count()"
   ]
  },
  {
   "cell_type": "code",
   "execution_count": 14,
   "id": "9cf85b06",
   "metadata": {},
   "outputs": [
    {
     "data": {
      "text/html": [
       "<div>\n",
       "<style scoped>\n",
       "    .dataframe tbody tr th:only-of-type {\n",
       "        vertical-align: middle;\n",
       "    }\n",
       "\n",
       "    .dataframe tbody tr th {\n",
       "        vertical-align: top;\n",
       "    }\n",
       "\n",
       "    .dataframe thead th {\n",
       "        text-align: right;\n",
       "    }\n",
       "</style>\n",
       "<table border=\"1\" class=\"dataframe\">\n",
       "  <thead>\n",
       "    <tr style=\"text-align: right;\">\n",
       "      <th></th>\n",
       "      <th>Date</th>\n",
       "      <th>Close</th>\n",
       "    </tr>\n",
       "  </thead>\n",
       "  <tbody>\n",
       "    <tr>\n",
       "      <th>0</th>\n",
       "      <td>2022-11-28</td>\n",
       "      <td>10.70</td>\n",
       "    </tr>\n",
       "    <tr>\n",
       "      <th>1</th>\n",
       "      <td>2022-11-29</td>\n",
       "      <td>10.76</td>\n",
       "    </tr>\n",
       "    <tr>\n",
       "      <th>2</th>\n",
       "      <td>2022-11-30</td>\n",
       "      <td>11.22</td>\n",
       "    </tr>\n",
       "    <tr>\n",
       "      <th>3</th>\n",
       "      <td>2022-12-01</td>\n",
       "      <td>11.20</td>\n",
       "    </tr>\n",
       "    <tr>\n",
       "      <th>4</th>\n",
       "      <td>2022-12-02</td>\n",
       "      <td>11.10</td>\n",
       "    </tr>\n",
       "  </tbody>\n",
       "</table>\n",
       "</div>"
      ],
      "text/plain": [
       "        Date  Close\n",
       "0 2022-11-28  10.70\n",
       "1 2022-11-29  10.76\n",
       "2 2022-11-30  11.22\n",
       "3 2022-12-01  11.20\n",
       "4 2022-12-02  11.10"
      ]
     },
     "execution_count": 14,
     "metadata": {},
     "output_type": "execute_result"
    }
   ],
   "source": [
    "lyft.head(5)"
   ]
  },
  {
   "cell_type": "code",
   "execution_count": 15,
   "id": "343c3511",
   "metadata": {},
   "outputs": [
    {
     "data": {
      "text/plain": [
       "<AxesSubplot:xlabel='Date', ylabel='Close'>"
      ]
     },
     "execution_count": 15,
     "metadata": {},
     "output_type": "execute_result"
    },
    {
     "data": {
      "image/png": "[encoded data removed]",
      "text/plain": [
       "<Figure size 1000x500 with 1 Axes>"
      ]
     },
     "metadata": {},
     "output_type": "display_data"
    }
   ],
   "source": [
    "plt.figure(figsize=(10,5))\n",
    "sns.lineplot(x='Date',y='Close',data=lyft)"
   ]
  },
  {
   "cell_type": "code",
   "execution_count": 16,
   "id": "2c1fd870",
   "metadata": {},
   "outputs": [
    {
     "data": {
      "text/html": [
       "<div>\n",
       "<style scoped>\n",
       "    .dataframe tbody tr th:only-of-type {\n",
       "        vertical-align: middle;\n",
       "    }\n",
       "\n",
       "    .dataframe tbody tr th {\n",
       "        vertical-align: top;\n",
       "    }\n",
       "\n",
       "    .dataframe thead th {\n",
       "        text-align: right;\n",
       "    }\n",
       "</style>\n",
       "<table border=\"1\" class=\"dataframe\">\n",
       "  <thead>\n",
       "    <tr style=\"text-align: right;\">\n",
       "      <th></th>\n",
       "      <th>Date</th>\n",
       "      <th>Close</th>\n",
       "    </tr>\n",
       "  </thead>\n",
       "  <tbody>\n",
       "    <tr>\n",
       "      <th>0</th>\n",
       "      <td>2022-11-28</td>\n",
       "      <td>10.70</td>\n",
       "    </tr>\n",
       "    <tr>\n",
       "      <th>1</th>\n",
       "      <td>2022-11-29</td>\n",
       "      <td>10.76</td>\n",
       "    </tr>\n",
       "    <tr>\n",
       "      <th>2</th>\n",
       "      <td>2022-11-30</td>\n",
       "      <td>11.22</td>\n",
       "    </tr>\n",
       "    <tr>\n",
       "      <th>3</th>\n",
       "      <td>2022-12-01</td>\n",
       "      <td>11.20</td>\n",
       "    </tr>\n",
       "    <tr>\n",
       "      <th>4</th>\n",
       "      <td>2022-12-02</td>\n",
       "      <td>11.10</td>\n",
       "    </tr>\n",
       "    <tr>\n",
       "      <th>5</th>\n",
       "      <td>2022-12-05</td>\n",
       "      <td>10.78</td>\n",
       "    </tr>\n",
       "    <tr>\n",
       "      <th>6</th>\n",
       "      <td>2022-12-06</td>\n",
       "      <td>10.41</td>\n",
       "    </tr>\n",
       "    <tr>\n",
       "      <th>7</th>\n",
       "      <td>2022-12-07</td>\n",
       "      <td>10.32</td>\n",
       "    </tr>\n",
       "    <tr>\n",
       "      <th>8</th>\n",
       "      <td>2022-12-08</td>\n",
       "      <td>10.64</td>\n",
       "    </tr>\n",
       "    <tr>\n",
       "      <th>9</th>\n",
       "      <td>2022-12-09</td>\n",
       "      <td>10.95</td>\n",
       "    </tr>\n",
       "    <tr>\n",
       "      <th>10</th>\n",
       "      <td>2022-12-12</td>\n",
       "      <td>11.51</td>\n",
       "    </tr>\n",
       "    <tr>\n",
       "      <th>11</th>\n",
       "      <td>2022-12-13</td>\n",
       "      <td>11.60</td>\n",
       "    </tr>\n",
       "  </tbody>\n",
       "</table>\n",
       "</div>"
      ],
      "text/plain": [
       "         Date  Close\n",
       "0  2022-11-28  10.70\n",
       "1  2022-11-29  10.76\n",
       "2  2022-11-30  11.22\n",
       "3  2022-12-01  11.20\n",
       "4  2022-12-02  11.10\n",
       "5  2022-12-05  10.78\n",
       "6  2022-12-06  10.41\n",
       "7  2022-12-07  10.32\n",
       "8  2022-12-08  10.64\n",
       "9  2022-12-09  10.95\n",
       "10 2022-12-12  11.51\n",
       "11 2022-12-13  11.60"
      ]
     },
     "execution_count": 16,
     "metadata": {},
     "output_type": "execute_result"
    }
   ],
   "source": [
    "lyft.head(12)"
   ]
  },
  {
   "cell_type": "code",
   "execution_count": 17,
   "id": "0edd34f7",
   "metadata": {},
   "outputs": [
    {
     "data": {
      "text/plain": [
       "array([[10.69999981, 10.76000023, 11.22000027, 11.19999981, 11.10000038,\n",
       "        10.77999973, 10.40999985, 10.31999969, 10.64000034, 10.94999981],\n",
       "       [11.51000023, 11.60000038, 11.89000034, 11.35000038, 11.09000015,\n",
       "        10.31999969, 10.35999966, 10.47999954, 10.10000038, 10.21000004],\n",
       "       [ 9.86999989, 10.11999989, 10.85000038, 11.02000046, 11.11999989,\n",
       "        11.48999977, 11.35999966, 11.93999958, 12.69999981, 13.31000042],\n",
       "       [13.84000015, 14.55000019, 14.48999977, 14.35000038, 14.35000038,\n",
       "        14.21000004, 15.39999962, 15.40999985, 15.30000019, 15.85999966],\n",
       "       [15.35999966, 16.18000031, 15.55000019, 16.25      , 16.89999962,\n",
       "        17.54999924, 17.37999916, 17.35000038, 17.93000031, 16.75      ],\n",
       "       [16.21999931, 10.31000042, 10.46000004, 10.76000023, 11.5       ,\n",
       "        10.98999977, 11.27999973, 10.68999958, 10.75      , 10.56999969],\n",
       "       [10.19999981, 10.        , 10.        ,  9.89999962,  9.77999973,\n",
       "        10.11999989,  9.75      ,  9.88000011,  9.80000019,  8.92000008],\n",
       "       [ 8.71000004,  8.46000004,  8.51000023,  8.98999977,  9.60000038,\n",
       "        10.06000042,  9.93000031, 10.46000004,  9.96000004,  9.82999992],\n",
       "       [ 9.86999989,  9.60000038,  8.86999989,  8.97999954,  9.10000038,\n",
       "         9.27000046,  9.06999969,  9.55000019,  9.38000011,  9.43000031],\n",
       "       [ 9.90999985, 10.35000038,  9.77999973, 10.        , 10.17000008,\n",
       "        10.44999981, 10.31000042, 10.27000046,  9.84000015, 10.43999958]])"
      ]
     },
     "execution_count": 17,
     "metadata": {},
     "output_type": "execute_result"
    }
   ],
   "source": [
    "# Re-organize the data set by day and hours\n",
    "\n",
    "temp = np.array(lyft['Close']).reshape(10,10)\n",
    "\n",
    "temp"
   ]
  },
  {
   "cell_type": "code",
   "execution_count": 18,
   "id": "c5aa0c02",
   "metadata": {},
   "outputs": [
    {
     "data": {
      "text/plain": [
       "(100, 2)"
      ]
     },
     "execution_count": 18,
     "metadata": {},
     "output_type": "execute_result"
    }
   ],
   "source": [
    "lyft.shape"
   ]
  },
  {
   "cell_type": "code",
   "execution_count": 19,
   "id": "815441ff",
   "metadata": {},
   "outputs": [
    {
     "data": {
      "text/html": [
       "<div>\n",
       "<style scoped>\n",
       "    .dataframe tbody tr th:only-of-type {\n",
       "        vertical-align: middle;\n",
       "    }\n",
       "\n",
       "    .dataframe tbody tr th {\n",
       "        vertical-align: top;\n",
       "    }\n",
       "\n",
       "    .dataframe thead th {\n",
       "        text-align: right;\n",
       "    }\n",
       "</style>\n",
       "<table border=\"1\" class=\"dataframe\">\n",
       "  <thead>\n",
       "    <tr style=\"text-align: right;\">\n",
       "      <th></th>\n",
       "      <th>0</th>\n",
       "      <th>1</th>\n",
       "      <th>2</th>\n",
       "      <th>3</th>\n",
       "      <th>4</th>\n",
       "      <th>5</th>\n",
       "      <th>6</th>\n",
       "      <th>7</th>\n",
       "      <th>8</th>\n",
       "      <th>9</th>\n",
       "    </tr>\n",
       "  </thead>\n",
       "  <tbody>\n",
       "    <tr>\n",
       "      <th>0</th>\n",
       "      <td>10.700000</td>\n",
       "      <td>10.76</td>\n",
       "      <td>11.22</td>\n",
       "      <td>11.20</td>\n",
       "      <td>11.10</td>\n",
       "      <td>10.780000</td>\n",
       "      <td>10.410000</td>\n",
       "      <td>10.32</td>\n",
       "      <td>10.64</td>\n",
       "      <td>10.95</td>\n",
       "    </tr>\n",
       "    <tr>\n",
       "      <th>1</th>\n",
       "      <td>11.510000</td>\n",
       "      <td>11.60</td>\n",
       "      <td>11.89</td>\n",
       "      <td>11.35</td>\n",
       "      <td>11.09</td>\n",
       "      <td>10.320000</td>\n",
       "      <td>10.360000</td>\n",
       "      <td>10.48</td>\n",
       "      <td>10.10</td>\n",
       "      <td>10.21</td>\n",
       "    </tr>\n",
       "    <tr>\n",
       "      <th>2</th>\n",
       "      <td>9.870000</td>\n",
       "      <td>10.12</td>\n",
       "      <td>10.85</td>\n",
       "      <td>11.02</td>\n",
       "      <td>11.12</td>\n",
       "      <td>11.490000</td>\n",
       "      <td>11.360000</td>\n",
       "      <td>11.94</td>\n",
       "      <td>12.70</td>\n",
       "      <td>13.31</td>\n",
       "    </tr>\n",
       "    <tr>\n",
       "      <th>3</th>\n",
       "      <td>13.840000</td>\n",
       "      <td>14.55</td>\n",
       "      <td>14.49</td>\n",
       "      <td>14.35</td>\n",
       "      <td>14.35</td>\n",
       "      <td>14.210000</td>\n",
       "      <td>15.400000</td>\n",
       "      <td>15.41</td>\n",
       "      <td>15.30</td>\n",
       "      <td>15.86</td>\n",
       "    </tr>\n",
       "    <tr>\n",
       "      <th>4</th>\n",
       "      <td>15.360000</td>\n",
       "      <td>16.18</td>\n",
       "      <td>15.55</td>\n",
       "      <td>16.25</td>\n",
       "      <td>16.90</td>\n",
       "      <td>17.549999</td>\n",
       "      <td>17.379999</td>\n",
       "      <td>17.35</td>\n",
       "      <td>17.93</td>\n",
       "      <td>16.75</td>\n",
       "    </tr>\n",
       "    <tr>\n",
       "      <th>5</th>\n",
       "      <td>16.219999</td>\n",
       "      <td>10.31</td>\n",
       "      <td>10.46</td>\n",
       "      <td>10.76</td>\n",
       "      <td>11.50</td>\n",
       "      <td>10.990000</td>\n",
       "      <td>11.280000</td>\n",
       "      <td>10.69</td>\n",
       "      <td>10.75</td>\n",
       "      <td>10.57</td>\n",
       "    </tr>\n",
       "    <tr>\n",
       "      <th>6</th>\n",
       "      <td>10.200000</td>\n",
       "      <td>10.00</td>\n",
       "      <td>10.00</td>\n",
       "      <td>9.90</td>\n",
       "      <td>9.78</td>\n",
       "      <td>10.120000</td>\n",
       "      <td>9.750000</td>\n",
       "      <td>9.88</td>\n",
       "      <td>9.80</td>\n",
       "      <td>8.92</td>\n",
       "    </tr>\n",
       "    <tr>\n",
       "      <th>7</th>\n",
       "      <td>8.710000</td>\n",
       "      <td>8.46</td>\n",
       "      <td>8.51</td>\n",
       "      <td>8.99</td>\n",
       "      <td>9.60</td>\n",
       "      <td>10.060000</td>\n",
       "      <td>9.930000</td>\n",
       "      <td>10.46</td>\n",
       "      <td>9.96</td>\n",
       "      <td>9.83</td>\n",
       "    </tr>\n",
       "    <tr>\n",
       "      <th>8</th>\n",
       "      <td>9.870000</td>\n",
       "      <td>9.60</td>\n",
       "      <td>8.87</td>\n",
       "      <td>8.98</td>\n",
       "      <td>9.10</td>\n",
       "      <td>9.270000</td>\n",
       "      <td>9.070000</td>\n",
       "      <td>9.55</td>\n",
       "      <td>9.38</td>\n",
       "      <td>9.43</td>\n",
       "    </tr>\n",
       "    <tr>\n",
       "      <th>9</th>\n",
       "      <td>9.910000</td>\n",
       "      <td>10.35</td>\n",
       "      <td>9.78</td>\n",
       "      <td>10.00</td>\n",
       "      <td>10.17</td>\n",
       "      <td>10.450000</td>\n",
       "      <td>10.310000</td>\n",
       "      <td>10.27</td>\n",
       "      <td>9.84</td>\n",
       "      <td>10.44</td>\n",
       "    </tr>\n",
       "  </tbody>\n",
       "</table>\n",
       "</div>"
      ],
      "text/plain": [
       "           0      1      2      3      4          5          6      7      8  \\\n",
       "0  10.700000  10.76  11.22  11.20  11.10  10.780000  10.410000  10.32  10.64   \n",
       "1  11.510000  11.60  11.89  11.35  11.09  10.320000  10.360000  10.48  10.10   \n",
       "2   9.870000  10.12  10.85  11.02  11.12  11.490000  11.360000  11.94  12.70   \n",
       "3  13.840000  14.55  14.49  14.35  14.35  14.210000  15.400000  15.41  15.30   \n",
       "4  15.360000  16.18  15.55  16.25  16.90  17.549999  17.379999  17.35  17.93   \n",
       "5  16.219999  10.31  10.46  10.76  11.50  10.990000  11.280000  10.69  10.75   \n",
       "6  10.200000  10.00  10.00   9.90   9.78  10.120000   9.750000   9.88   9.80   \n",
       "7   8.710000   8.46   8.51   8.99   9.60  10.060000   9.930000  10.46   9.96   \n",
       "8   9.870000   9.60   8.87   8.98   9.10   9.270000   9.070000   9.55   9.38   \n",
       "9   9.910000  10.35   9.78  10.00  10.17  10.450000  10.310000  10.27   9.84   \n",
       "\n",
       "       9  \n",
       "0  10.95  \n",
       "1  10.21  \n",
       "2  13.31  \n",
       "3  15.86  \n",
       "4  16.75  \n",
       "5  10.57  \n",
       "6   8.92  \n",
       "7   9.83  \n",
       "8   9.43  \n",
       "9  10.44  "
      ]
     },
     "execution_count": 19,
     "metadata": {},
     "output_type": "execute_result"
    }
   ],
   "source": [
    "# Convert to dataframe\n",
    "\n",
    "temp_df = pd.DataFrame(temp, columns=np.arange(0,10,1))\n",
    "\n",
    "temp_df"
   ]
  },
  {
   "cell_type": "markdown",
   "id": "de399b2a",
   "metadata": {},
   "source": [
    "### Reshaping for Standardization"
   ]
  },
  {
   "cell_type": "code",
   "execution_count": 20,
   "id": "e97b58af",
   "metadata": {},
   "outputs": [
    {
     "data": {
      "text/plain": [
       "(100, 1)"
      ]
     },
     "execution_count": 20,
     "metadata": {},
     "output_type": "execute_result"
    }
   ],
   "source": [
    "# Let's create a single sequence (i.e., feature) for standardization\n",
    "\n",
    "temp_1feature = np.array(temp_df).ravel().reshape(-1,1)\n",
    "\n",
    "temp_1feature.shape"
   ]
  },
  {
   "cell_type": "code",
   "execution_count": 21,
   "id": "f17d2bef",
   "metadata": {},
   "outputs": [
    {
     "data": {
      "text/plain": [
       "array([[10.69999981],\n",
       "       [10.76000023],\n",
       "       [11.22000027],\n",
       "       [11.19999981],\n",
       "       [11.10000038],\n",
       "       [10.77999973],\n",
       "       [10.40999985],\n",
       "       [10.31999969],\n",
       "       [10.64000034],\n",
       "       [10.94999981],\n",
       "       [11.51000023],\n",
       "       [11.60000038],\n",
       "       [11.89000034],\n",
       "       [11.35000038],\n",
       "       [11.09000015],\n",
       "       [10.31999969],\n",
       "       [10.35999966],\n",
       "       [10.47999954],\n",
       "       [10.10000038],\n",
       "       [10.21000004],\n",
       "       [ 9.86999989],\n",
       "       [10.11999989],\n",
       "       [10.85000038],\n",
       "       [11.02000046],\n",
       "       [11.11999989],\n",
       "       [11.48999977],\n",
       "       [11.35999966],\n",
       "       [11.93999958],\n",
       "       [12.69999981],\n",
       "       [13.31000042],\n",
       "       [13.84000015],\n",
       "       [14.55000019],\n",
       "       [14.48999977],\n",
       "       [14.35000038],\n",
       "       [14.35000038],\n",
       "       [14.21000004],\n",
       "       [15.39999962],\n",
       "       [15.40999985],\n",
       "       [15.30000019],\n",
       "       [15.85999966],\n",
       "       [15.35999966],\n",
       "       [16.18000031],\n",
       "       [15.55000019],\n",
       "       [16.25      ],\n",
       "       [16.89999962],\n",
       "       [17.54999924],\n",
       "       [17.37999916],\n",
       "       [17.35000038],\n",
       "       [17.93000031],\n",
       "       [16.75      ],\n",
       "       [16.21999931],\n",
       "       [10.31000042],\n",
       "       [10.46000004],\n",
       "       [10.76000023],\n",
       "       [11.5       ],\n",
       "       [10.98999977],\n",
       "       [11.27999973],\n",
       "       [10.68999958],\n",
       "       [10.75      ],\n",
       "       [10.56999969],\n",
       "       [10.19999981],\n",
       "       [10.        ],\n",
       "       [10.        ],\n",
       "       [ 9.89999962],\n",
       "       [ 9.77999973],\n",
       "       [10.11999989],\n",
       "       [ 9.75      ],\n",
       "       [ 9.88000011],\n",
       "       [ 9.80000019],\n",
       "       [ 8.92000008],\n",
       "       [ 8.71000004],\n",
       "       [ 8.46000004],\n",
       "       [ 8.51000023],\n",
       "       [ 8.98999977],\n",
       "       [ 9.60000038],\n",
       "       [10.06000042],\n",
       "       [ 9.93000031],\n",
       "       [10.46000004],\n",
       "       [ 9.96000004],\n",
       "       [ 9.82999992],\n",
       "       [ 9.86999989],\n",
       "       [ 9.60000038],\n",
       "       [ 8.86999989],\n",
       "       [ 8.97999954],\n",
       "       [ 9.10000038],\n",
       "       [ 9.27000046],\n",
       "       [ 9.06999969],\n",
       "       [ 9.55000019],\n",
       "       [ 9.38000011],\n",
       "       [ 9.43000031],\n",
       "       [ 9.90999985],\n",
       "       [10.35000038],\n",
       "       [ 9.77999973],\n",
       "       [10.        ],\n",
       "       [10.17000008],\n",
       "       [10.44999981],\n",
       "       [10.31000042],\n",
       "       [10.27000046],\n",
       "       [ 9.84000015],\n",
       "       [10.43999958]])"
      ]
     },
     "execution_count": 21,
     "metadata": {},
     "output_type": "execute_result"
    }
   ],
   "source": [
    "temp_1feature"
   ]
  },
  {
   "cell_type": "markdown",
   "id": "5c37bfc1",
   "metadata": {},
   "source": [
    "## Standardize the values"
   ]
  },
  {
   "cell_type": "code",
   "execution_count": 22,
   "id": "a4cdff85",
   "metadata": {},
   "outputs": [],
   "source": [
    "# Next, standardize\n",
    "\n",
    "from sklearn.preprocessing import StandardScaler\n",
    "\n",
    "scaler = StandardScaler()\n",
    "\n",
    "temp_std = scaler.fit_transform(temp_1feature)"
   ]
  },
  {
   "cell_type": "code",
   "execution_count": 23,
   "id": "d1e9cda1",
   "metadata": {},
   "outputs": [
    {
     "data": {
      "text/plain": [
       "(10, 10)"
      ]
     },
     "execution_count": 23,
     "metadata": {},
     "output_type": "execute_result"
    }
   ],
   "source": [
    "temp_reshaped = temp_std.reshape(10,10)\n",
    "\n",
    "temp_reshaped.shape"
   ]
  },
  {
   "cell_type": "code",
   "execution_count": 24,
   "id": "c497c536",
   "metadata": {},
   "outputs": [
    {
     "data": {
      "text/html": [
       "<div>\n",
       "<style scoped>\n",
       "    .dataframe tbody tr th:only-of-type {\n",
       "        vertical-align: middle;\n",
       "    }\n",
       "\n",
       "    .dataframe tbody tr th {\n",
       "        vertical-align: top;\n",
       "    }\n",
       "\n",
       "    .dataframe thead th {\n",
       "        text-align: right;\n",
       "    }\n",
       "</style>\n",
       "<table border=\"1\" class=\"dataframe\">\n",
       "  <thead>\n",
       "    <tr style=\"text-align: right;\">\n",
       "      <th></th>\n",
       "      <th>0</th>\n",
       "      <th>1</th>\n",
       "      <th>2</th>\n",
       "      <th>3</th>\n",
       "      <th>4</th>\n",
       "      <th>5</th>\n",
       "      <th>6</th>\n",
       "      <th>7</th>\n",
       "      <th>8</th>\n",
       "      <th>9</th>\n",
       "    </tr>\n",
       "  </thead>\n",
       "  <tbody>\n",
       "    <tr>\n",
       "      <th>0</th>\n",
       "      <td>-0.317432</td>\n",
       "      <td>-0.292619</td>\n",
       "      <td>-0.102392</td>\n",
       "      <td>-0.110663</td>\n",
       "      <td>-0.152016</td>\n",
       "      <td>-0.284349</td>\n",
       "      <td>-0.437358</td>\n",
       "      <td>-0.474576</td>\n",
       "      <td>-0.342244</td>\n",
       "      <td>-0.214047</td>\n",
       "    </tr>\n",
       "    <tr>\n",
       "      <th>1</th>\n",
       "      <td>0.017534</td>\n",
       "      <td>0.054753</td>\n",
       "      <td>0.174679</td>\n",
       "      <td>-0.048632</td>\n",
       "      <td>-0.156152</td>\n",
       "      <td>-0.474576</td>\n",
       "      <td>-0.458035</td>\n",
       "      <td>-0.408410</td>\n",
       "      <td>-0.565554</td>\n",
       "      <td>-0.520065</td>\n",
       "    </tr>\n",
       "    <tr>\n",
       "      <th>2</th>\n",
       "      <td>-0.660668</td>\n",
       "      <td>-0.557284</td>\n",
       "      <td>-0.255401</td>\n",
       "      <td>-0.185099</td>\n",
       "      <td>-0.143746</td>\n",
       "      <td>0.009263</td>\n",
       "      <td>-0.044497</td>\n",
       "      <td>0.195355</td>\n",
       "      <td>0.509644</td>\n",
       "      <td>0.761902</td>\n",
       "    </tr>\n",
       "    <tr>\n",
       "      <th>3</th>\n",
       "      <td>0.981077</td>\n",
       "      <td>1.274689</td>\n",
       "      <td>1.249877</td>\n",
       "      <td>1.191982</td>\n",
       "      <td>1.191982</td>\n",
       "      <td>1.134086</td>\n",
       "      <td>1.626196</td>\n",
       "      <td>1.630332</td>\n",
       "      <td>1.584843</td>\n",
       "      <td>1.816424</td>\n",
       "    </tr>\n",
       "    <tr>\n",
       "      <th>4</th>\n",
       "      <td>1.609655</td>\n",
       "      <td>1.948756</td>\n",
       "      <td>1.688227</td>\n",
       "      <td>1.977704</td>\n",
       "      <td>2.246503</td>\n",
       "      <td>2.515303</td>\n",
       "      <td>2.445001</td>\n",
       "      <td>2.432596</td>\n",
       "      <td>2.672448</td>\n",
       "      <td>2.184473</td>\n",
       "    </tr>\n",
       "    <tr>\n",
       "      <th>5</th>\n",
       "      <td>1.965297</td>\n",
       "      <td>-0.478711</td>\n",
       "      <td>-0.416681</td>\n",
       "      <td>-0.292619</td>\n",
       "      <td>0.013399</td>\n",
       "      <td>-0.197506</td>\n",
       "      <td>-0.077580</td>\n",
       "      <td>-0.321567</td>\n",
       "      <td>-0.296755</td>\n",
       "      <td>-0.371192</td>\n",
       "    </tr>\n",
       "    <tr>\n",
       "      <th>6</th>\n",
       "      <td>-0.524201</td>\n",
       "      <td>-0.606908</td>\n",
       "      <td>-0.606908</td>\n",
       "      <td>-0.648262</td>\n",
       "      <td>-0.697887</td>\n",
       "      <td>-0.557284</td>\n",
       "      <td>-0.710293</td>\n",
       "      <td>-0.656533</td>\n",
       "      <td>-0.689616</td>\n",
       "      <td>-1.053529</td>\n",
       "    </tr>\n",
       "    <tr>\n",
       "      <th>7</th>\n",
       "      <td>-1.140372</td>\n",
       "      <td>-1.243757</td>\n",
       "      <td>-1.223080</td>\n",
       "      <td>-1.024582</td>\n",
       "      <td>-0.772323</td>\n",
       "      <td>-0.582096</td>\n",
       "      <td>-0.635856</td>\n",
       "      <td>-0.416681</td>\n",
       "      <td>-0.623450</td>\n",
       "      <td>-0.677210</td>\n",
       "    </tr>\n",
       "    <tr>\n",
       "      <th>8</th>\n",
       "      <td>-0.660668</td>\n",
       "      <td>-0.772323</td>\n",
       "      <td>-1.074206</td>\n",
       "      <td>-1.028717</td>\n",
       "      <td>-0.979092</td>\n",
       "      <td>-0.908791</td>\n",
       "      <td>-0.991499</td>\n",
       "      <td>-0.793000</td>\n",
       "      <td>-0.863302</td>\n",
       "      <td>-0.842625</td>\n",
       "    </tr>\n",
       "    <tr>\n",
       "      <th>9</th>\n",
       "      <td>-0.644127</td>\n",
       "      <td>-0.462170</td>\n",
       "      <td>-0.697887</td>\n",
       "      <td>-0.606908</td>\n",
       "      <td>-0.536607</td>\n",
       "      <td>-0.420816</td>\n",
       "      <td>-0.478711</td>\n",
       "      <td>-0.495253</td>\n",
       "      <td>-0.673074</td>\n",
       "      <td>-0.424952</td>\n",
       "    </tr>\n",
       "  </tbody>\n",
       "</table>\n",
       "</div>"
      ],
      "text/plain": [
       "          0         1         2         3         4         5         6  \\\n",
       "0 -0.317432 -0.292619 -0.102392 -0.110663 -0.152016 -0.284349 -0.437358   \n",
       "1  0.017534  0.054753  0.174679 -0.048632 -0.156152 -0.474576 -0.458035   \n",
       "2 -0.660668 -0.557284 -0.255401 -0.185099 -0.143746  0.009263 -0.044497   \n",
       "3  0.981077  1.274689  1.249877  1.191982  1.191982  1.134086  1.626196   \n",
       "4  1.609655  1.948756  1.688227  1.977704  2.246503  2.515303  2.445001   \n",
       "5  1.965297 -0.478711 -0.416681 -0.292619  0.013399 -0.197506 -0.077580   \n",
       "6 -0.524201 -0.606908 -0.606908 -0.648262 -0.697887 -0.557284 -0.710293   \n",
       "7 -1.140372 -1.243757 -1.223080 -1.024582 -0.772323 -0.582096 -0.635856   \n",
       "8 -0.660668 -0.772323 -1.074206 -1.028717 -0.979092 -0.908791 -0.991499   \n",
       "9 -0.644127 -0.462170 -0.697887 -0.606908 -0.536607 -0.420816 -0.478711   \n",
       "\n",
       "          7         8         9  \n",
       "0 -0.474576 -0.342244 -0.214047  \n",
       "1 -0.408410 -0.565554 -0.520065  \n",
       "2  0.195355  0.509644  0.761902  \n",
       "3  1.630332  1.584843  1.816424  \n",
       "4  2.432596  2.672448  2.184473  \n",
       "5 -0.321567 -0.296755 -0.371192  \n",
       "6 -0.656533 -0.689616 -1.053529  \n",
       "7 -0.416681 -0.623450 -0.677210  \n",
       "8 -0.793000 -0.863302 -0.842625  \n",
       "9 -0.495253 -0.673074 -0.424952  "
      ]
     },
     "execution_count": 24,
     "metadata": {},
     "output_type": "execute_result"
    }
   ],
   "source": [
    "#Pandas version of the reshaped data\n",
    "\n",
    "pd.DataFrame(temp_reshaped)"
   ]
  },
  {
   "cell_type": "markdown",
   "id": "1c1d9f1e",
   "metadata": {},
   "source": [
    "### Data Split"
   ]
  },
  {
   "cell_type": "code",
   "execution_count": 25,
   "id": "ce8c1567",
   "metadata": {},
   "outputs": [],
   "source": [
    "from sklearn.model_selection import train_test_split\n",
    "\n",
    "train, test = train_test_split(temp_reshaped, test_size=0.3)"
   ]
  },
  {
   "cell_type": "code",
   "execution_count": 26,
   "id": "8a81a939",
   "metadata": {},
   "outputs": [
    {
     "data": {
      "text/plain": [
       "(7, 10)"
      ]
     },
     "execution_count": 26,
     "metadata": {},
     "output_type": "execute_result"
    }
   ],
   "source": [
    "train.shape"
   ]
  },
  {
   "cell_type": "code",
   "execution_count": 27,
   "id": "311cfefe",
   "metadata": {},
   "outputs": [
    {
     "data": {
      "text/plain": [
       "(3, 10)"
      ]
     },
     "execution_count": 27,
     "metadata": {},
     "output_type": "execute_result"
    }
   ],
   "source": [
    "test.shape"
   ]
  },
  {
   "cell_type": "markdown",
   "id": "86b34a39",
   "metadata": {},
   "source": [
    "## Create Input and Target values"
   ]
  },
  {
   "cell_type": "code",
   "execution_count": 28,
   "id": "ece0727e",
   "metadata": {},
   "outputs": [
    {
     "data": {
      "text/html": [
       "<div>\n",
       "<style scoped>\n",
       "    .dataframe tbody tr th:only-of-type {\n",
       "        vertical-align: middle;\n",
       "    }\n",
       "\n",
       "    .dataframe tbody tr th {\n",
       "        vertical-align: top;\n",
       "    }\n",
       "\n",
       "    .dataframe thead th {\n",
       "        text-align: right;\n",
       "    }\n",
       "</style>\n",
       "<table border=\"1\" class=\"dataframe\">\n",
       "  <thead>\n",
       "    <tr style=\"text-align: right;\">\n",
       "      <th></th>\n",
       "      <th>0</th>\n",
       "      <th>1</th>\n",
       "      <th>2</th>\n",
       "      <th>3</th>\n",
       "      <th>4</th>\n",
       "      <th>5</th>\n",
       "      <th>6</th>\n",
       "      <th>7</th>\n",
       "      <th>8</th>\n",
       "    </tr>\n",
       "  </thead>\n",
       "  <tbody>\n",
       "    <tr>\n",
       "      <th>0</th>\n",
       "      <td>-0.317432</td>\n",
       "      <td>-0.292619</td>\n",
       "      <td>-0.102392</td>\n",
       "      <td>-0.110663</td>\n",
       "      <td>-0.152016</td>\n",
       "      <td>-0.284349</td>\n",
       "      <td>-0.437358</td>\n",
       "      <td>-0.474576</td>\n",
       "      <td>-0.342244</td>\n",
       "    </tr>\n",
       "    <tr>\n",
       "      <th>1</th>\n",
       "      <td>-1.140372</td>\n",
       "      <td>-1.243757</td>\n",
       "      <td>-1.223080</td>\n",
       "      <td>-1.024582</td>\n",
       "      <td>-0.772323</td>\n",
       "      <td>-0.582096</td>\n",
       "      <td>-0.635856</td>\n",
       "      <td>-0.416681</td>\n",
       "      <td>-0.623450</td>\n",
       "    </tr>\n",
       "    <tr>\n",
       "      <th>2</th>\n",
       "      <td>-0.660668</td>\n",
       "      <td>-0.557284</td>\n",
       "      <td>-0.255401</td>\n",
       "      <td>-0.185099</td>\n",
       "      <td>-0.143746</td>\n",
       "      <td>0.009263</td>\n",
       "      <td>-0.044497</td>\n",
       "      <td>0.195355</td>\n",
       "      <td>0.509644</td>\n",
       "    </tr>\n",
       "    <tr>\n",
       "      <th>3</th>\n",
       "      <td>-0.644127</td>\n",
       "      <td>-0.462170</td>\n",
       "      <td>-0.697887</td>\n",
       "      <td>-0.606908</td>\n",
       "      <td>-0.536607</td>\n",
       "      <td>-0.420816</td>\n",
       "      <td>-0.478711</td>\n",
       "      <td>-0.495253</td>\n",
       "      <td>-0.673074</td>\n",
       "    </tr>\n",
       "    <tr>\n",
       "      <th>4</th>\n",
       "      <td>1.609655</td>\n",
       "      <td>1.948756</td>\n",
       "      <td>1.688227</td>\n",
       "      <td>1.977704</td>\n",
       "      <td>2.246503</td>\n",
       "      <td>2.515303</td>\n",
       "      <td>2.445001</td>\n",
       "      <td>2.432596</td>\n",
       "      <td>2.672448</td>\n",
       "    </tr>\n",
       "    <tr>\n",
       "      <th>5</th>\n",
       "      <td>0.981077</td>\n",
       "      <td>1.274689</td>\n",
       "      <td>1.249877</td>\n",
       "      <td>1.191982</td>\n",
       "      <td>1.191982</td>\n",
       "      <td>1.134086</td>\n",
       "      <td>1.626196</td>\n",
       "      <td>1.630332</td>\n",
       "      <td>1.584843</td>\n",
       "    </tr>\n",
       "    <tr>\n",
       "      <th>6</th>\n",
       "      <td>-0.524201</td>\n",
       "      <td>-0.606908</td>\n",
       "      <td>-0.606908</td>\n",
       "      <td>-0.648262</td>\n",
       "      <td>-0.697887</td>\n",
       "      <td>-0.557284</td>\n",
       "      <td>-0.710293</td>\n",
       "      <td>-0.656533</td>\n",
       "      <td>-0.689616</td>\n",
       "    </tr>\n",
       "  </tbody>\n",
       "</table>\n",
       "</div>"
      ],
      "text/plain": [
       "          0         1         2         3         4         5         6  \\\n",
       "0 -0.317432 -0.292619 -0.102392 -0.110663 -0.152016 -0.284349 -0.437358   \n",
       "1 -1.140372 -1.243757 -1.223080 -1.024582 -0.772323 -0.582096 -0.635856   \n",
       "2 -0.660668 -0.557284 -0.255401 -0.185099 -0.143746  0.009263 -0.044497   \n",
       "3 -0.644127 -0.462170 -0.697887 -0.606908 -0.536607 -0.420816 -0.478711   \n",
       "4  1.609655  1.948756  1.688227  1.977704  2.246503  2.515303  2.445001   \n",
       "5  0.981077  1.274689  1.249877  1.191982  1.191982  1.134086  1.626196   \n",
       "6 -0.524201 -0.606908 -0.606908 -0.648262 -0.697887 -0.557284 -0.710293   \n",
       "\n",
       "          7         8  \n",
       "0 -0.474576 -0.342244  \n",
       "1 -0.416681 -0.623450  \n",
       "2  0.195355  0.509644  \n",
       "3 -0.495253 -0.673074  \n",
       "4  2.432596  2.672448  \n",
       "5  1.630332  1.584843  \n",
       "6 -0.656533 -0.689616  "
      ]
     },
     "execution_count": 28,
     "metadata": {},
     "output_type": "execute_result"
    }
   ],
   "source": [
    "train_inputs = train[:,:9]\n",
    "\n",
    "\n",
    "pd.DataFrame(train_inputs)"
   ]
  },
  {
   "cell_type": "markdown",
   "id": "c17cb2e9",
   "metadata": {},
   "source": [
    "#### Adding one more dimension  to make it ready for RNNs"
   ]
  },
  {
   "cell_type": "code",
   "execution_count": 29,
   "id": "e900067e",
   "metadata": {},
   "outputs": [
    {
     "data": {
      "text/plain": [
       "array([[-0.31743178, -0.29261933, -0.10239188, -0.11066283, -0.15201638,\n",
       "        -0.28434878, -0.43735776, -0.47457623, -0.34224383],\n",
       "       [-1.14037213, -1.24375661, -1.22307963, -1.02458163, -0.77232325,\n",
       "        -0.58209579, -0.63585577, -0.41668079, -0.62344974],\n",
       "       [-0.66066822, -0.55728374, -0.25540086, -0.18509938, -0.14374583,\n",
       "         0.00926315, -0.04449682,  0.19535514,  0.50964404],\n",
       "       [-0.64412672, -0.46216981, -0.69788669, -0.60690824, -0.53660676,\n",
       "        -0.42081626, -0.47871131, -0.49525281, -0.67307424],\n",
       "       [ 1.60965482,  1.94875618,  1.68822725,  1.97770371,  2.24650319,\n",
       "         2.51530268,  2.4450012 ,  2.43259557,  2.67244753],\n",
       "       [ 0.9810774 ,  1.27468934,  1.24987689,  1.19198183,  1.19198183,\n",
       "         1.13408638,  1.62619633,  1.6303318 ,  1.58484277],\n",
       "       [-0.52420074, -0.60690824, -0.60690824, -0.64826219, -0.69788669,\n",
       "        -0.55728374, -0.71029272, -0.65653274, -0.68961574]])"
      ]
     },
     "execution_count": 29,
     "metadata": {},
     "output_type": "execute_result"
    }
   ],
   "source": [
    "train_inputs"
   ]
  },
  {
   "cell_type": "code",
   "execution_count": 30,
   "id": "9aa6e976",
   "metadata": {},
   "outputs": [
    {
     "data": {
      "text/plain": [
       "(7, 9)"
      ]
     },
     "execution_count": 30,
     "metadata": {},
     "output_type": "execute_result"
    }
   ],
   "source": [
    "train_inputs.shape "
   ]
  },
  {
   "cell_type": "code",
   "execution_count": 31,
   "id": "99bf963d",
   "metadata": {},
   "outputs": [
    {
     "data": {
      "text/plain": [
       "(7, 9, 1)"
      ]
     },
     "execution_count": 31,
     "metadata": {},
     "output_type": "execute_result"
    }
   ],
   "source": [
    "#Create an additional dimension for train\n",
    "\n",
    "train_x = train_inputs[:,:,np.newaxis]\n",
    "\n",
    "train_x.shape "
   ]
  },
  {
   "cell_type": "code",
   "execution_count": 32,
   "id": "0945107e",
   "metadata": {},
   "outputs": [
    {
     "data": {
      "text/plain": [
       "array([[[-0.31743178],\n",
       "        [-0.29261933],\n",
       "        [-0.10239188],\n",
       "        [-0.11066283],\n",
       "        [-0.15201638],\n",
       "        [-0.28434878],\n",
       "        [-0.43735776],\n",
       "        [-0.47457623],\n",
       "        [-0.34224383]],\n",
       "\n",
       "       [[-1.14037213],\n",
       "        [-1.24375661],\n",
       "        [-1.22307963],\n",
       "        [-1.02458163],\n",
       "        [-0.77232325],\n",
       "        [-0.58209579],\n",
       "        [-0.63585577],\n",
       "        [-0.41668079],\n",
       "        [-0.62344974]],\n",
       "\n",
       "       [[-0.66066822],\n",
       "        [-0.55728374],\n",
       "        [-0.25540086],\n",
       "        [-0.18509938],\n",
       "        [-0.14374583],\n",
       "        [ 0.00926315],\n",
       "        [-0.04449682],\n",
       "        [ 0.19535514],\n",
       "        [ 0.50964404]],\n",
       "\n",
       "       [[-0.64412672],\n",
       "        [-0.46216981],\n",
       "        [-0.69788669],\n",
       "        [-0.60690824],\n",
       "        [-0.53660676],\n",
       "        [-0.42081626],\n",
       "        [-0.47871131],\n",
       "        [-0.49525281],\n",
       "        [-0.67307424]],\n",
       "\n",
       "       [[ 1.60965482],\n",
       "        [ 1.94875618],\n",
       "        [ 1.68822725],\n",
       "        [ 1.97770371],\n",
       "        [ 2.24650319],\n",
       "        [ 2.51530268],\n",
       "        [ 2.4450012 ],\n",
       "        [ 2.43259557],\n",
       "        [ 2.67244753]],\n",
       "\n",
       "       [[ 0.9810774 ],\n",
       "        [ 1.27468934],\n",
       "        [ 1.24987689],\n",
       "        [ 1.19198183],\n",
       "        [ 1.19198183],\n",
       "        [ 1.13408638],\n",
       "        [ 1.62619633],\n",
       "        [ 1.6303318 ],\n",
       "        [ 1.58484277]],\n",
       "\n",
       "       [[-0.52420074],\n",
       "        [-0.60690824],\n",
       "        [-0.60690824],\n",
       "        [-0.64826219],\n",
       "        [-0.69788669],\n",
       "        [-0.55728374],\n",
       "        [-0.71029272],\n",
       "        [-0.65653274],\n",
       "        [-0.68961574]]])"
      ]
     },
     "execution_count": 32,
     "metadata": {},
     "output_type": "execute_result"
    }
   ],
   "source": [
    "train_x"
   ]
  },
  {
   "cell_type": "markdown",
   "id": "a8af2333",
   "metadata": {},
   "source": [
    "### set the target"
   ]
  },
  {
   "cell_type": "code",
   "execution_count": 33,
   "id": "6007ebb2",
   "metadata": {},
   "outputs": [
    {
     "data": {
      "text/html": [
       "<div>\n",
       "<style scoped>\n",
       "    .dataframe tbody tr th:only-of-type {\n",
       "        vertical-align: middle;\n",
       "    }\n",
       "\n",
       "    .dataframe tbody tr th {\n",
       "        vertical-align: top;\n",
       "    }\n",
       "\n",
       "    .dataframe thead th {\n",
       "        text-align: right;\n",
       "    }\n",
       "</style>\n",
       "<table border=\"1\" class=\"dataframe\">\n",
       "  <thead>\n",
       "    <tr style=\"text-align: right;\">\n",
       "      <th></th>\n",
       "      <th>9</th>\n",
       "    </tr>\n",
       "  </thead>\n",
       "  <tbody>\n",
       "    <tr>\n",
       "      <th>0</th>\n",
       "      <td>-0.214047</td>\n",
       "    </tr>\n",
       "    <tr>\n",
       "      <th>1</th>\n",
       "      <td>-0.677210</td>\n",
       "    </tr>\n",
       "    <tr>\n",
       "      <th>2</th>\n",
       "      <td>0.761902</td>\n",
       "    </tr>\n",
       "    <tr>\n",
       "      <th>3</th>\n",
       "      <td>-0.424952</td>\n",
       "    </tr>\n",
       "    <tr>\n",
       "      <th>4</th>\n",
       "      <td>2.184473</td>\n",
       "    </tr>\n",
       "    <tr>\n",
       "      <th>5</th>\n",
       "      <td>1.816424</td>\n",
       "    </tr>\n",
       "    <tr>\n",
       "      <th>6</th>\n",
       "      <td>-1.053529</td>\n",
       "    </tr>\n",
       "  </tbody>\n",
       "</table>\n",
       "</div>"
      ],
      "text/plain": [
       "          9\n",
       "0 -0.214047\n",
       "1 -0.677210\n",
       "2  0.761902\n",
       "3 -0.424952\n",
       "4  2.184473\n",
       "5  1.816424\n",
       "6 -1.053529"
      ]
     },
     "execution_count": 33,
     "metadata": {},
     "output_type": "execute_result"
    }
   ],
   "source": [
    "train_target = train[:,-1]\n",
    "\n",
    "\n",
    "pd.DataFrame(train_target, columns=['9'])"
   ]
  },
  {
   "cell_type": "markdown",
   "id": "69a2fe02",
   "metadata": {},
   "source": [
    "### Repeat for test"
   ]
  },
  {
   "cell_type": "code",
   "execution_count": 34,
   "id": "3c0174fd",
   "metadata": {},
   "outputs": [
    {
     "data": {
      "text/plain": [
       "(3, 10)"
      ]
     },
     "execution_count": 34,
     "metadata": {},
     "output_type": "execute_result"
    }
   ],
   "source": [
    "test.shape"
   ]
  },
  {
   "cell_type": "code",
   "execution_count": 35,
   "id": "ae6dae0e",
   "metadata": {},
   "outputs": [],
   "source": [
    "# The first 9 columns (from 0 to 8) are inputs\n",
    "\n",
    "test_inputs = test[:,:9]"
   ]
  },
  {
   "cell_type": "code",
   "execution_count": 36,
   "id": "6cbbfd84",
   "metadata": {},
   "outputs": [
    {
     "data": {
      "text/plain": [
       "(3, 9, 1)"
      ]
     },
     "execution_count": 36,
     "metadata": {},
     "output_type": "execute_result"
    }
   ],
   "source": [
    "#Create an additional dimension for test\n",
    "\n",
    "test_x = test_inputs[...,np.newaxis]\n",
    "\n",
    "test_x.shape "
   ]
  },
  {
   "cell_type": "code",
   "execution_count": 37,
   "id": "2e10a2b8",
   "metadata": {},
   "outputs": [
    {
     "data": {
      "text/html": [
       "<div>\n",
       "<style scoped>\n",
       "    .dataframe tbody tr th:only-of-type {\n",
       "        vertical-align: middle;\n",
       "    }\n",
       "\n",
       "    .dataframe tbody tr th {\n",
       "        vertical-align: top;\n",
       "    }\n",
       "\n",
       "    .dataframe thead th {\n",
       "        text-align: right;\n",
       "    }\n",
       "</style>\n",
       "<table border=\"1\" class=\"dataframe\">\n",
       "  <thead>\n",
       "    <tr style=\"text-align: right;\">\n",
       "      <th></th>\n",
       "      <th>9</th>\n",
       "    </tr>\n",
       "  </thead>\n",
       "  <tbody>\n",
       "    <tr>\n",
       "      <th>0</th>\n",
       "      <td>-0.842625</td>\n",
       "    </tr>\n",
       "    <tr>\n",
       "      <th>1</th>\n",
       "      <td>-0.520065</td>\n",
       "    </tr>\n",
       "    <tr>\n",
       "      <th>2</th>\n",
       "      <td>-0.371192</td>\n",
       "    </tr>\n",
       "  </tbody>\n",
       "</table>\n",
       "</div>"
      ],
      "text/plain": [
       "          9\n",
       "0 -0.842625\n",
       "1 -0.520065\n",
       "2 -0.371192"
      ]
     },
     "execution_count": 37,
     "metadata": {},
     "output_type": "execute_result"
    }
   ],
   "source": [
    "# The last column (9) is TARGET\n",
    "\n",
    "test_target = test[:,-1]\n",
    "\n",
    "\n",
    "pd.DataFrame(test_target, columns=['9'])"
   ]
  },
  {
   "cell_type": "markdown",
   "id": "ed3bdb64",
   "metadata": {},
   "source": [
    "# A normal (cross-sectional) NN"
   ]
  },
  {
   "cell_type": "code",
   "execution_count": 38,
   "id": "fd356884",
   "metadata": {},
   "outputs": [
    {
     "name": "stdout",
     "output_type": "stream",
     "text": [
      "Epoch 1/100\n",
      "1/1 [==============================] - 0s 448ms/step - loss: 0.5535\n",
      "Epoch 2/100\n",
      "1/1 [==============================] - 0s 2ms/step - loss: 0.5139\n",
      "Epoch 3/100\n",
      "1/1 [==============================] - 0s 2ms/step - loss: 0.4769\n",
      "Epoch 4/100\n",
      "1/1 [==============================] - 0s 3ms/step - loss: 0.4426\n",
      "Epoch 5/100\n",
      "1/1 [==============================] - 0s 3ms/step - loss: 0.4109\n",
      "Epoch 6/100\n",
      "1/1 [==============================] - 0s 1ms/step - loss: 0.3817\n",
      "Epoch 7/100\n",
      "1/1 [==============================] - 0s 2ms/step - loss: 0.3551\n",
      "Epoch 8/100\n",
      "1/1 [==============================] - 0s 2ms/step - loss: 0.3310\n",
      "Epoch 9/100\n",
      "1/1 [==============================] - 0s 6ms/step - loss: 0.3093\n",
      "Epoch 10/100\n",
      "1/1 [==============================] - 0s 3ms/step - loss: 0.2900\n",
      "Epoch 11/100\n",
      "1/1 [==============================] - 0s 2ms/step - loss: 0.2730\n",
      "Epoch 12/100\n",
      "1/1 [==============================] - 0s 2ms/step - loss: 0.2581\n",
      "Epoch 13/100\n",
      "1/1 [==============================] - 0s 1ms/step - loss: 0.2452\n",
      "Epoch 14/100\n",
      "1/1 [==============================] - 0s 2ms/step - loss: 0.2341\n",
      "Epoch 15/100\n",
      "1/1 [==============================] - 0s 2ms/step - loss: 0.2247\n",
      "Epoch 16/100\n",
      "1/1 [==============================] - 0s 2ms/step - loss: 0.2169\n",
      "Epoch 17/100\n",
      "1/1 [==============================] - 0s 2ms/step - loss: 0.2103\n",
      "Epoch 18/100\n",
      "1/1 [==============================] - 0s 2ms/step - loss: 0.2049\n",
      "Epoch 19/100\n",
      "1/1 [==============================] - 0s 2ms/step - loss: 0.2005\n",
      "Epoch 20/100\n",
      "1/1 [==============================] - 0s 3ms/step - loss: 0.1969\n",
      "Epoch 21/100\n",
      "1/1 [==============================] - 0s 2ms/step - loss: 0.1939\n",
      "Epoch 22/100\n",
      "1/1 [==============================] - 0s 3ms/step - loss: 0.1916\n",
      "Epoch 23/100\n",
      "1/1 [==============================] - 0s 2ms/step - loss: 0.1896\n",
      "Epoch 24/100\n",
      "1/1 [==============================] - 0s 3ms/step - loss: 0.1878\n",
      "Epoch 25/100\n",
      "1/1 [==============================] - 0s 2ms/step - loss: 0.1862\n",
      "Epoch 26/100\n",
      "1/1 [==============================] - 0s 2ms/step - loss: 0.1848\n",
      "Epoch 27/100\n",
      "1/1 [==============================] - 0s 5ms/step - loss: 0.1834\n",
      "Epoch 28/100\n",
      "1/1 [==============================] - 0s 1ms/step - loss: 0.1818\n",
      "Epoch 29/100\n",
      "1/1 [==============================] - 0s 3ms/step - loss: 0.1802\n",
      "Epoch 30/100\n",
      "1/1 [==============================] - 0s 2ms/step - loss: 0.1784\n",
      "Epoch 31/100\n",
      "1/1 [==============================] - 0s 2ms/step - loss: 0.1764\n",
      "Epoch 32/100\n",
      "1/1 [==============================] - 0s 2ms/step - loss: 0.1743\n",
      "Epoch 33/100\n",
      "1/1 [==============================] - 0s 2ms/step - loss: 0.1721\n",
      "Epoch 34/100\n",
      "1/1 [==============================] - 0s 3ms/step - loss: 0.1698\n",
      "Epoch 35/100\n",
      "1/1 [==============================] - 0s 0s/step - loss: 0.1673\n",
      "Epoch 36/100\n",
      "1/1 [==============================] - 0s 0s/step - loss: 0.1649\n",
      "Epoch 37/100\n",
      "1/1 [==============================] - 0s 10ms/step - loss: 0.1624\n",
      "Epoch 38/100\n",
      "1/1 [==============================] - 0s 3ms/step - loss: 0.1599\n",
      "Epoch 39/100\n",
      "1/1 [==============================] - 0s 2ms/step - loss: 0.1575\n",
      "Epoch 40/100\n",
      "1/1 [==============================] - 0s 3ms/step - loss: 0.1551\n",
      "Epoch 41/100\n",
      "1/1 [==============================] - 0s 0s/step - loss: 0.1527\n",
      "Epoch 42/100\n",
      "1/1 [==============================] - 0s 3ms/step - loss: 0.1504\n",
      "Epoch 43/100\n",
      "1/1 [==============================] - 0s 3ms/step - loss: 0.1483\n",
      "Epoch 44/100\n",
      "1/1 [==============================] - 0s 0s/step - loss: 0.1462\n",
      "Epoch 45/100\n",
      "1/1 [==============================] - 0s 0s/step - loss: 0.1442\n",
      "Epoch 46/100\n",
      "1/1 [==============================] - 0s 0s/step - loss: 0.1422\n",
      "Epoch 47/100\n",
      "1/1 [==============================] - 0s 2ms/step - loss: 0.1404\n",
      "Epoch 48/100\n",
      "1/1 [==============================] - 0s 2ms/step - loss: 0.1386\n",
      "Epoch 49/100\n",
      "1/1 [==============================] - 0s 4ms/step - loss: 0.1369\n",
      "Epoch 50/100\n",
      "1/1 [==============================] - 0s 0s/step - loss: 0.1353\n",
      "Epoch 51/100\n",
      "1/1 [==============================] - 0s 7ms/step - loss: 0.1337\n",
      "Epoch 52/100\n",
      "1/1 [==============================] - 0s 4ms/step - loss: 0.1321\n",
      "Epoch 53/100\n",
      "1/1 [==============================] - 0s 3ms/step - loss: 0.1306\n",
      "Epoch 54/100\n",
      "1/1 [==============================] - 0s 4ms/step - loss: 0.1291\n",
      "Epoch 55/100\n",
      "1/1 [==============================] - 0s 3ms/step - loss: 0.1277\n",
      "Epoch 56/100\n",
      "1/1 [==============================] - 0s 3ms/step - loss: 0.1262\n",
      "Epoch 57/100\n",
      "1/1 [==============================] - 0s 2ms/step - loss: 0.1245\n",
      "Epoch 58/100\n",
      "1/1 [==============================] - 0s 3ms/step - loss: 0.1226\n",
      "Epoch 59/100\n",
      "1/1 [==============================] - 0s 3ms/step - loss: 0.1207\n",
      "Epoch 60/100\n",
      "1/1 [==============================] - 0s 0s/step - loss: 0.1188\n",
      "Epoch 61/100\n",
      "1/1 [==============================] - 0s 2ms/step - loss: 0.1169\n",
      "Epoch 62/100\n",
      "1/1 [==============================] - 0s 3ms/step - loss: 0.1149\n",
      "Epoch 63/100\n",
      "1/1 [==============================] - 0s 3ms/step - loss: 0.1130\n",
      "Epoch 64/100\n",
      "1/1 [==============================] - 0s 0s/step - loss: 0.1110\n",
      "Epoch 65/100\n",
      "1/1 [==============================] - 0s 1ms/step - loss: 0.1091\n",
      "Epoch 66/100\n",
      "1/1 [==============================] - 0s 3ms/step - loss: 0.1079\n",
      "Epoch 67/100\n",
      "1/1 [==============================] - 0s 2ms/step - loss: 0.1067\n",
      "Epoch 68/100\n",
      "1/1 [==============================] - 0s 2ms/step - loss: 0.1053\n",
      "Epoch 69/100\n",
      "1/1 [==============================] - 0s 2ms/step - loss: 0.1039\n",
      "Epoch 70/100\n",
      "1/1 [==============================] - 0s 2ms/step - loss: 0.1025\n",
      "Epoch 71/100\n",
      "1/1 [==============================] - 0s 4ms/step - loss: 0.1012\n",
      "Epoch 72/100\n",
      "1/1 [==============================] - 0s 2ms/step - loss: 0.0998\n",
      "Epoch 73/100\n",
      "1/1 [==============================] - 0s 3ms/step - loss: 0.0984\n",
      "Epoch 74/100\n",
      "1/1 [==============================] - 0s 2ms/step - loss: 0.0970\n",
      "Epoch 75/100\n",
      "1/1 [==============================] - 0s 0s/step - loss: 0.0957\n",
      "Epoch 76/100\n",
      "1/1 [==============================] - 0s 6ms/step - loss: 0.0944\n",
      "Epoch 77/100\n",
      "1/1 [==============================] - 0s 2ms/step - loss: 0.0932\n",
      "Epoch 78/100\n",
      "1/1 [==============================] - 0s 2ms/step - loss: 0.0920\n",
      "Epoch 79/100\n",
      "1/1 [==============================] - 0s 3ms/step - loss: 0.0909\n",
      "Epoch 80/100\n",
      "1/1 [==============================] - 0s 2ms/step - loss: 0.0898\n",
      "Epoch 81/100\n",
      "1/1 [==============================] - 0s 3ms/step - loss: 0.0886\n",
      "Epoch 82/100\n",
      "1/1 [==============================] - 0s 3ms/step - loss: 0.0875\n",
      "Epoch 83/100\n",
      "1/1 [==============================] - 0s 3ms/step - loss: 0.0865\n",
      "Epoch 84/100\n",
      "1/1 [==============================] - 0s 2ms/step - loss: 0.0854\n",
      "Epoch 85/100\n",
      "1/1 [==============================] - 0s 3ms/step - loss: 0.0843\n",
      "Epoch 86/100\n",
      "1/1 [==============================] - 0s 3ms/step - loss: 0.0832\n",
      "Epoch 87/100\n",
      "1/1 [==============================] - 0s 2ms/step - loss: 0.0821\n",
      "Epoch 88/100\n",
      "1/1 [==============================] - 0s 2ms/step - loss: 0.0810\n",
      "Epoch 89/100\n",
      "1/1 [==============================] - 0s 2ms/step - loss: 0.0799\n",
      "Epoch 90/100\n",
      "1/1 [==============================] - 0s 2ms/step - loss: 0.0789\n",
      "Epoch 91/100\n",
      "1/1 [==============================] - 0s 0s/step - loss: 0.0778\n",
      "Epoch 92/100\n",
      "1/1 [==============================] - 0s 785us/step - loss: 0.0768\n",
      "Epoch 93/100\n",
      "1/1 [==============================] - 0s 4ms/step - loss: 0.0758\n",
      "Epoch 94/100\n",
      "1/1 [==============================] - 0s 3ms/step - loss: 0.0748\n",
      "Epoch 95/100\n",
      "1/1 [==============================] - 0s 2ms/step - loss: 0.0738\n",
      "Epoch 96/100\n",
      "1/1 [==============================] - 0s 0s/step - loss: 0.0728\n",
      "Epoch 97/100\n",
      "1/1 [==============================] - 0s 5ms/step - loss: 0.0718\n",
      "Epoch 98/100\n",
      "1/1 [==============================] - 0s 2ms/step - loss: 0.0709\n",
      "Epoch 99/100\n",
      "1/1 [==============================] - 0s 3ms/step - loss: 0.0699\n",
      "Epoch 100/100\n",
      "1/1 [==============================] - 0s 3ms/step - loss: 0.0690\n"
     ]
    }
   ],
   "source": [
    "model = keras.models.Sequential([\n",
    "    \n",
    "    keras.layers.Flatten(input_shape=[9, 1]),\n",
    "    keras.layers.Dense(23, activation='relu'),\n",
    "    keras.layers.Dense(1, activation=None)\n",
    "    \n",
    "])\n",
    "\n",
    "model.compile(loss=\"mse\", optimizer='Adam')\n",
    "\n",
    "history = model.fit(train_x, train_target, epochs=100)"
   ]
  },
  {
   "cell_type": "markdown",
   "id": "9b98ecd5",
   "metadata": {},
   "source": [
    "### Predictions"
   ]
  },
  {
   "cell_type": "code",
   "execution_count": 39,
   "id": "44bd3e6c",
   "metadata": {},
   "outputs": [
    {
     "name": "stdout",
     "output_type": "stream",
     "text": [
      "1/1 [==============================] - 0s 82ms/step\n"
     ]
    }
   ],
   "source": [
    "#Predict:\n",
    "y_pred = model.predict(test_x)"
   ]
  },
  {
   "cell_type": "code",
   "execution_count": 40,
   "id": "4130a057",
   "metadata": {},
   "outputs": [],
   "source": [
    "# Remember, these are standardized values. \n",
    "\n",
    "comparison = pd.DataFrame()\n",
    "\n",
    "comparison['actual'] = scaler.inverse_transform([test_target]).flatten()\n",
    "comparison['predicted'] = scaler.inverse_transform(y_pred).flatten()"
   ]
  },
  {
   "cell_type": "code",
   "execution_count": 41,
   "id": "141a4539",
   "metadata": {},
   "outputs": [
    {
     "data": {
      "text/html": [
       "<div>\n",
       "<style scoped>\n",
       "    .dataframe tbody tr th:only-of-type {\n",
       "        vertical-align: middle;\n",
       "    }\n",
       "\n",
       "    .dataframe tbody tr th {\n",
       "        vertical-align: top;\n",
       "    }\n",
       "\n",
       "    .dataframe thead th {\n",
       "        text-align: right;\n",
       "    }\n",
       "</style>\n",
       "<table border=\"1\" class=\"dataframe\">\n",
       "  <thead>\n",
       "    <tr style=\"text-align: right;\">\n",
       "      <th></th>\n",
       "      <th>actual</th>\n",
       "      <th>predicted</th>\n",
       "    </tr>\n",
       "  </thead>\n",
       "  <tbody>\n",
       "    <tr>\n",
       "      <th>0</th>\n",
       "      <td>9.43</td>\n",
       "      <td>8.687678</td>\n",
       "    </tr>\n",
       "    <tr>\n",
       "      <th>1</th>\n",
       "      <td>10.21</td>\n",
       "      <td>10.491647</td>\n",
       "    </tr>\n",
       "    <tr>\n",
       "      <th>2</th>\n",
       "      <td>10.57</td>\n",
       "      <td>10.170894</td>\n",
       "    </tr>\n",
       "  </tbody>\n",
       "</table>\n",
       "</div>"
      ],
      "text/plain": [
       "   actual  predicted\n",
       "0    9.43   8.687678\n",
       "1   10.21  10.491647\n",
       "2   10.57  10.170894"
      ]
     },
     "execution_count": 41,
     "metadata": {},
     "output_type": "execute_result"
    }
   ],
   "source": [
    "comparison"
   ]
  },
  {
   "cell_type": "code",
   "execution_count": 42,
   "id": "84eb9d94",
   "metadata": {},
   "outputs": [
    {
     "data": {
      "text/plain": [
       "0.2632174679074524"
      ]
     },
     "execution_count": 42,
     "metadata": {},
     "output_type": "execute_result"
    }
   ],
   "source": [
    "mean_squared_error(comparison['actual'], comparison['predicted'])"
   ]
  },
  {
   "cell_type": "code",
   "execution_count": 43,
   "id": "6034b13d",
   "metadata": {},
   "outputs": [
    {
     "data": {
      "image/png": "[encoded data removed]",
      "text/plain": [
       "<Figure size 640x480 with 1 Axes>"
      ]
     },
     "metadata": {},
     "output_type": "display_data"
    }
   ],
   "source": [
    "plt.plot(comparison['actual'], label = 'actual')\n",
    "plt.plot(comparison['predicted'], label = 'predicted')\n",
    "\n",
    "plt.legend()\n",
    "\n",
    "plt.show()"
   ]
  },
  {
   "cell_type": "markdown",
   "id": "cbf70717",
   "metadata": {},
   "source": [
    "## Simple RNN"
   ]
  },
  {
   "cell_type": "code",
   "execution_count": 44,
   "id": "ab190bb0",
   "metadata": {},
   "outputs": [],
   "source": [
    "model = keras.models.Sequential([\n",
    "    keras.layers.SimpleRNN(32, activation='relu', input_shape=[9, 1]),\n",
    "    keras.layers.Dense(1, activation=None)\n",
    "])"
   ]
  },
  {
   "cell_type": "code",
   "execution_count": 45,
   "id": "5e12012c",
   "metadata": {},
   "outputs": [
    {
     "name": "stdout",
     "output_type": "stream",
     "text": [
      "Epoch 1/30\n",
      "1/1 [==============================] - 1s 1s/step - loss: 0.8888\n",
      "Epoch 2/30\n",
      "1/1 [==============================] - 0s 7ms/step - loss: 0.8052\n",
      "Epoch 3/30\n",
      "1/1 [==============================] - 0s 0s/step - loss: 0.7283\n",
      "Epoch 4/30\n",
      "1/1 [==============================] - 0s 16ms/step - loss: 0.6568\n",
      "Epoch 5/30\n",
      "1/1 [==============================] - 0s 0s/step - loss: 0.5889\n",
      "Epoch 6/30\n",
      "1/1 [==============================] - 0s 16ms/step - loss: 0.5245\n",
      "Epoch 7/30\n",
      "1/1 [==============================] - 0s 0s/step - loss: 0.4638\n",
      "Epoch 8/30\n",
      "1/1 [==============================] - 0s 1ms/step - loss: 0.4062\n",
      "Epoch 9/30\n",
      "1/1 [==============================] - 0s 16ms/step - loss: 0.3527\n",
      "Epoch 10/30\n",
      "1/1 [==============================] - 0s 0s/step - loss: 0.3037\n",
      "Epoch 11/30\n",
      "1/1 [==============================] - 0s 16ms/step - loss: 0.2587\n",
      "Epoch 12/30\n",
      "1/1 [==============================] - 0s 0s/step - loss: 0.2186\n",
      "Epoch 13/30\n",
      "1/1 [==============================] - 0s 0s/step - loss: 0.1840\n",
      "Epoch 14/30\n",
      "1/1 [==============================] - 0s 98us/step - loss: 0.1552\n",
      "Epoch 15/30\n",
      "1/1 [==============================] - 0s 0s/step - loss: 0.1339\n",
      "Epoch 16/30\n",
      "1/1 [==============================] - 0s 1ms/step - loss: 0.1196\n",
      "Epoch 17/30\n",
      "1/1 [==============================] - 0s 0s/step - loss: 0.1126\n",
      "Epoch 18/30\n",
      "1/1 [==============================] - 0s 1ms/step - loss: 0.1122\n",
      "Epoch 19/30\n",
      "1/1 [==============================] - 0s 17ms/step - loss: 0.1168\n",
      "Epoch 20/30\n",
      "1/1 [==============================] - 0s 0s/step - loss: 0.1233\n",
      "Epoch 21/30\n",
      "1/1 [==============================] - 0s 15ms/step - loss: 0.1293\n",
      "Epoch 22/30\n",
      "1/1 [==============================] - 0s 0s/step - loss: 0.1323\n",
      "Epoch 23/30\n",
      "1/1 [==============================] - 0s 17ms/step - loss: 0.1312\n",
      "Epoch 24/30\n",
      "1/1 [==============================] - 0s 7ms/step - loss: 0.1261\n",
      "Epoch 25/30\n",
      "1/1 [==============================] - 0s 0s/step - loss: 0.1180\n",
      "Epoch 26/30\n",
      "1/1 [==============================] - 0s 0s/step - loss: 0.1080\n",
      "Epoch 27/30\n",
      "1/1 [==============================] - 0s 18ms/step - loss: 0.0976\n",
      "Epoch 28/30\n",
      "1/1 [==============================] - 0s 0s/step - loss: 0.0880\n",
      "Epoch 29/30\n",
      "1/1 [==============================] - 0s 16ms/step - loss: 0.0798\n",
      "Epoch 30/30\n",
      "1/1 [==============================] - 0s 15ms/step - loss: 0.0733\n"
     ]
    }
   ],
   "source": [
    "np.random.seed(42)\n",
    "tf.random.set_seed(42)\n",
    "\n",
    "model.compile(loss=\"mse\", optimizer='Adam')\n",
    "\n",
    "history = model.fit(train_x, train_target, epochs=30)"
   ]
  },
  {
   "cell_type": "markdown",
   "id": "4d503149",
   "metadata": {},
   "source": [
    "### Predictions"
   ]
  },
  {
   "cell_type": "code",
   "execution_count": 46,
   "id": "1d65c95c",
   "metadata": {},
   "outputs": [
    {
     "name": "stdout",
     "output_type": "stream",
     "text": [
      "1/1 [==============================] - 0s 230ms/step\n"
     ]
    }
   ],
   "source": [
    "#Predict:\n",
    "y_pred = model.predict(test_x)"
   ]
  },
  {
   "cell_type": "code",
   "execution_count": 47,
   "id": "08e4390b",
   "metadata": {},
   "outputs": [],
   "source": [
    "#Remember, these are standardized values. \n",
    "\n",
    "comparison = pd.DataFrame()\n",
    "\n",
    "comparison['actual'] = scaler.inverse_transform([test_target]).flatten()\n",
    "comparison['predicted'] = scaler.inverse_transform(y_pred).flatten()"
   ]
  },
  {
   "cell_type": "code",
   "execution_count": 48,
   "id": "5a32febf",
   "metadata": {},
   "outputs": [
    {
     "data": {
      "text/html": [
       "<div>\n",
       "<style scoped>\n",
       "    .dataframe tbody tr th:only-of-type {\n",
       "        vertical-align: middle;\n",
       "    }\n",
       "\n",
       "    .dataframe tbody tr th {\n",
       "        vertical-align: top;\n",
       "    }\n",
       "\n",
       "    .dataframe thead th {\n",
       "        text-align: right;\n",
       "    }\n",
       "</style>\n",
       "<table border=\"1\" class=\"dataframe\">\n",
       "  <thead>\n",
       "    <tr style=\"text-align: right;\">\n",
       "      <th></th>\n",
       "      <th>actual</th>\n",
       "      <th>predicted</th>\n",
       "    </tr>\n",
       "  </thead>\n",
       "  <tbody>\n",
       "    <tr>\n",
       "      <th>0</th>\n",
       "      <td>9.43</td>\n",
       "      <td>9.485877</td>\n",
       "    </tr>\n",
       "    <tr>\n",
       "      <th>1</th>\n",
       "      <td>10.21</td>\n",
       "      <td>10.282676</td>\n",
       "    </tr>\n",
       "    <tr>\n",
       "      <th>2</th>\n",
       "      <td>10.57</td>\n",
       "      <td>11.121612</td>\n",
       "    </tr>\n",
       "  </tbody>\n",
       "</table>\n",
       "</div>"
      ],
      "text/plain": [
       "   actual  predicted\n",
       "0    9.43   9.485877\n",
       "1   10.21  10.282676\n",
       "2   10.57  11.121612"
      ]
     },
     "execution_count": 48,
     "metadata": {},
     "output_type": "execute_result"
    }
   ],
   "source": [
    "comparison"
   ]
  },
  {
   "cell_type": "code",
   "execution_count": 49,
   "id": "a1a6750d",
   "metadata": {},
   "outputs": [
    {
     "data": {
      "text/plain": [
       "0.10422655194694623"
      ]
     },
     "execution_count": 49,
     "metadata": {},
     "output_type": "execute_result"
    }
   ],
   "source": [
    "mean_squared_error(comparison['actual'], comparison['predicted'])"
   ]
  },
  {
   "cell_type": "code",
   "execution_count": 50,
   "id": "d7e61a86",
   "metadata": {},
   "outputs": [
    {
     "data": {
      "image/png": "[encoded data removed]",
      "text/plain": [
       "<Figure size 640x480 with 1 Axes>"
      ]
     },
     "metadata": {},
     "output_type": "display_data"
    }
   ],
   "source": [
    "plt.plot(comparison['actual'], label = 'actual')\n",
    "plt.plot(comparison['predicted'], label = 'predicted')\n",
    "\n",
    "plt.legend()\n",
    "\n",
    "plt.show()"
   ]
  },
  {
   "cell_type": "markdown",
   "id": "182e26e1",
   "metadata": {},
   "source": [
    "##  Simple RNN with more layers"
   ]
  },
  {
   "cell_type": "code",
   "execution_count": 51,
   "id": "e158e439",
   "metadata": {},
   "outputs": [],
   "source": [
    "model = keras.models.Sequential([\n",
    "    keras.layers.SimpleRNN(32, activation='relu', return_sequences=True, input_shape=[9, 1]),\n",
    "    keras.layers.SimpleRNN(32, activation='relu', return_sequences=False),\n",
    "    keras.layers.Dense(1, activation=None)\n",
    "])"
   ]
  },
  {
   "cell_type": "code",
   "execution_count": 52,
   "id": "b7f531b9",
   "metadata": {},
   "outputs": [
    {
     "name": "stdout",
     "output_type": "stream",
     "text": [
      "Epoch 1/30\n",
      "1/1 [==============================] - 2s 2s/step - loss: 1.4068\n",
      "Epoch 2/30\n",
      "1/1 [==============================] - 0s 5ms/step - loss: 1.2595\n",
      "Epoch 3/30\n",
      "1/1 [==============================] - 0s 0s/step - loss: 1.1319\n",
      "Epoch 4/30\n",
      "1/1 [==============================] - 0s 0s/step - loss: 1.0374\n",
      "Epoch 5/30\n",
      "1/1 [==============================] - 0s 0s/step - loss: 0.9568\n",
      "Epoch 6/30\n",
      "1/1 [==============================] - 0s 5ms/step - loss: 0.8810\n",
      "Epoch 7/30\n",
      "1/1 [==============================] - 0s 0s/step - loss: 0.8059\n",
      "Epoch 8/30\n",
      "1/1 [==============================] - 0s 0s/step - loss: 0.7301\n",
      "Epoch 9/30\n",
      "1/1 [==============================] - 0s 19ms/step - loss: 0.6538\n",
      "Epoch 10/30\n",
      "1/1 [==============================] - 0s 5ms/step - loss: 0.5787\n",
      "Epoch 11/30\n",
      "1/1 [==============================] - 0s 0s/step - loss: 0.5080\n",
      "Epoch 12/30\n",
      "1/1 [==============================] - 0s 0s/step - loss: 0.4485\n",
      "Epoch 13/30\n",
      "1/1 [==============================] - 0s 20ms/step - loss: 0.3963\n",
      "Epoch 14/30\n",
      "1/1 [==============================] - 0s 5ms/step - loss: 0.3454\n",
      "Epoch 15/30\n",
      "1/1 [==============================] - 0s 0s/step - loss: 0.2957\n",
      "Epoch 16/30\n",
      "1/1 [==============================] - 0s 10ms/step - loss: 0.2489\n",
      "Epoch 17/30\n",
      "1/1 [==============================] - 0s 5ms/step - loss: 0.2046\n",
      "Epoch 18/30\n",
      "1/1 [==============================] - 0s 3ms/step - loss: 0.1646\n",
      "Epoch 19/30\n",
      "1/1 [==============================] - 0s 0s/step - loss: 0.1295\n",
      "Epoch 20/30\n",
      "1/1 [==============================] - 0s 0s/step - loss: 0.0998\n",
      "Epoch 21/30\n",
      "1/1 [==============================] - 0s 6ms/step - loss: 0.0765\n",
      "Epoch 22/30\n",
      "1/1 [==============================] - 0s 2ms/step - loss: 0.0612\n",
      "Epoch 23/30\n",
      "1/1 [==============================] - 0s 0s/step - loss: 0.0543\n",
      "Epoch 24/30\n",
      "1/1 [==============================] - 0s 17ms/step - loss: 0.0550\n",
      "Epoch 25/30\n",
      "1/1 [==============================] - 0s 4ms/step - loss: 0.0616\n",
      "Epoch 26/30\n",
      "1/1 [==============================] - 0s 0s/step - loss: 0.0716\n",
      "Epoch 27/30\n",
      "1/1 [==============================] - 0s 0s/step - loss: 0.0810\n",
      "Epoch 28/30\n",
      "1/1 [==============================] - 0s 17ms/step - loss: 0.0867\n",
      "Epoch 29/30\n",
      "1/1 [==============================] - 0s 4ms/step - loss: 0.0876\n",
      "Epoch 30/30\n",
      "1/1 [==============================] - 0s 0s/step - loss: 0.0839\n"
     ]
    }
   ],
   "source": [
    "np.random.seed(42)\n",
    "tf.random.set_seed(42)\n",
    "\n",
    "model.compile(loss=\"mse\", optimizer='Adam')\n",
    "\n",
    "history = model.fit(train_x, train_target, epochs=30)"
   ]
  },
  {
   "cell_type": "code",
   "execution_count": 53,
   "id": "3c9bbe09",
   "metadata": {},
   "outputs": [
    {
     "name": "stdout",
     "output_type": "stream",
     "text": [
      "1/1 [==============================] - 0s 259ms/step\n"
     ]
    }
   ],
   "source": [
    "#Predict:\n",
    "y_pred = model.predict(test_x)"
   ]
  },
  {
   "cell_type": "code",
   "execution_count": 54,
   "id": "91d8f30f",
   "metadata": {},
   "outputs": [],
   "source": [
    "#Remember, these are standardized values. \n",
    "\n",
    "comparison = pd.DataFrame()\n",
    "\n",
    "comparison['actual'] = scaler.inverse_transform([test_target]).flatten()\n",
    "comparison['predicted'] = scaler.inverse_transform(y_pred).flatten()"
   ]
  },
  {
   "cell_type": "code",
   "execution_count": 55,
   "id": "b33dd2b7",
   "metadata": {},
   "outputs": [
    {
     "data": {
      "text/html": [
       "<div>\n",
       "<style scoped>\n",
       "    .dataframe tbody tr th:only-of-type {\n",
       "        vertical-align: middle;\n",
       "    }\n",
       "\n",
       "    .dataframe tbody tr th {\n",
       "        vertical-align: top;\n",
       "    }\n",
       "\n",
       "    .dataframe thead th {\n",
       "        text-align: right;\n",
       "    }\n",
       "</style>\n",
       "<table border=\"1\" class=\"dataframe\">\n",
       "  <thead>\n",
       "    <tr style=\"text-align: right;\">\n",
       "      <th></th>\n",
       "      <th>actual</th>\n",
       "      <th>predicted</th>\n",
       "    </tr>\n",
       "  </thead>\n",
       "  <tbody>\n",
       "    <tr>\n",
       "      <th>0</th>\n",
       "      <td>9.43</td>\n",
       "      <td>8.157058</td>\n",
       "    </tr>\n",
       "    <tr>\n",
       "      <th>1</th>\n",
       "      <td>10.21</td>\n",
       "      <td>10.906904</td>\n",
       "    </tr>\n",
       "    <tr>\n",
       "      <th>2</th>\n",
       "      <td>10.57</td>\n",
       "      <td>11.879120</td>\n",
       "    </tr>\n",
       "  </tbody>\n",
       "</table>\n",
       "</div>"
      ],
      "text/plain": [
       "   actual  predicted\n",
       "0    9.43   8.157058\n",
       "1   10.21  10.906904\n",
       "2   10.57  11.879120"
      ]
     },
     "execution_count": 55,
     "metadata": {},
     "output_type": "execute_result"
    }
   ],
   "source": [
    "comparison"
   ]
  },
  {
   "cell_type": "code",
   "execution_count": 56,
   "id": "a5316804",
   "metadata": {},
   "outputs": [
    {
     "data": {
      "text/plain": [
       "1.2732845994596573"
      ]
     },
     "execution_count": 56,
     "metadata": {},
     "output_type": "execute_result"
    }
   ],
   "source": [
    "mean_squared_error(comparison['actual'], comparison['predicted'])"
   ]
  },
  {
   "cell_type": "code",
   "execution_count": 57,
   "id": "6462f12a",
   "metadata": {},
   "outputs": [
    {
     "data": {
      "image/png": "[encoded data removed]",
      "text/plain": [
       "<Figure size 640x480 with 1 Axes>"
      ]
     },
     "metadata": {},
     "output_type": "display_data"
    }
   ],
   "source": [
    "plt.plot(comparison['actual'], label = 'actual')\n",
    "plt.plot(comparison['predicted'], label = 'predicted')\n",
    "\n",
    "plt.legend()\n",
    "\n",
    "plt.show()"
   ]
  },
  {
   "cell_type": "markdown",
   "id": "c62d66fb",
   "metadata": {},
   "source": [
    "# LSTM with one layer"
   ]
  },
  {
   "cell_type": "code",
   "execution_count": 58,
   "id": "272121cc",
   "metadata": {},
   "outputs": [],
   "source": [
    "model = keras.models.Sequential([\n",
    "    keras.layers.LSTM(32, activation='relu', input_shape=[9, 1]),\n",
    "    keras.layers.Dense(1, activation=None)\n",
    "])"
   ]
  },
  {
   "cell_type": "code",
   "execution_count": 59,
   "id": "c858c3ab",
   "metadata": {},
   "outputs": [
    {
     "name": "stdout",
     "output_type": "stream",
     "text": [
      "Epoch 1/30\n",
      "1/1 [==============================] - 1s 1s/step - loss: 1.8856\n",
      "Epoch 2/30\n",
      "1/1 [==============================] - 0s 19ms/step - loss: 1.8508\n",
      "Epoch 3/30\n",
      "1/1 [==============================] - 0s 4ms/step - loss: 1.8167\n",
      "Epoch 4/30\n",
      "1/1 [==============================] - 0s 0s/step - loss: 1.7831\n",
      "Epoch 5/30\n",
      "1/1 [==============================] - 0s 0s/step - loss: 1.7502\n",
      "Epoch 6/30\n",
      "1/1 [==============================] - 0s 17ms/step - loss: 1.7177\n",
      "Epoch 7/30\n",
      "1/1 [==============================] - 0s 0s/step - loss: 1.6857\n",
      "Epoch 8/30\n",
      "1/1 [==============================] - 0s 0s/step - loss: 1.6542\n",
      "Epoch 9/30\n",
      "1/1 [==============================] - 0s 15ms/step - loss: 1.6231\n",
      "Epoch 10/30\n",
      "1/1 [==============================] - 0s 0s/step - loss: 1.5924\n",
      "Epoch 11/30\n",
      "1/1 [==============================] - 0s 9ms/step - loss: 1.5620\n",
      "Epoch 12/30\n",
      "1/1 [==============================] - 0s 7ms/step - loss: 1.5320\n",
      "Epoch 13/30\n",
      "1/1 [==============================] - 0s 0s/step - loss: 1.5023\n",
      "Epoch 14/30\n",
      "1/1 [==============================] - 0s 0s/step - loss: 1.4732\n",
      "Epoch 15/30\n",
      "1/1 [==============================] - 0s 0s/step - loss: 1.4447\n",
      "Epoch 16/30\n",
      "1/1 [==============================] - 0s 0s/step - loss: 1.4164\n",
      "Epoch 17/30\n",
      "1/1 [==============================] - 0s 0s/step - loss: 1.3882\n",
      "Epoch 18/30\n",
      "1/1 [==============================] - 0s 17ms/step - loss: 1.3601\n",
      "Epoch 19/30\n",
      "1/1 [==============================] - 0s 0s/step - loss: 1.3321\n",
      "Epoch 20/30\n",
      "1/1 [==============================] - 0s 0s/step - loss: 1.3040\n",
      "Epoch 21/30\n",
      "1/1 [==============================] - 0s 15ms/step - loss: 1.2760\n",
      "Epoch 22/30\n",
      "1/1 [==============================] - 0s 0s/step - loss: 1.2478\n",
      "Epoch 23/30\n",
      "1/1 [==============================] - 0s 0s/step - loss: 1.2192\n",
      "Epoch 24/30\n",
      "1/1 [==============================] - 0s 17ms/step - loss: 1.1907\n",
      "Epoch 25/30\n",
      "1/1 [==============================] - 0s 0s/step - loss: 1.1618\n",
      "Epoch 26/30\n",
      "1/1 [==============================] - 0s 0s/step - loss: 1.1329\n",
      "Epoch 27/30\n",
      "1/1 [==============================] - 0s 15ms/step - loss: 1.1040\n",
      "Epoch 28/30\n",
      "1/1 [==============================] - 0s 0s/step - loss: 1.0754\n",
      "Epoch 29/30\n",
      "1/1 [==============================] - 0s 0s/step - loss: 1.0467\n",
      "Epoch 30/30\n",
      "1/1 [==============================] - 0s 13ms/step - loss: 1.0179\n"
     ]
    }
   ],
   "source": [
    "np.random.seed(42)\n",
    "tf.random.set_seed(42)\n",
    "\n",
    "model.compile(loss=\"mse\", optimizer='Adam')\n",
    "\n",
    "history = model.fit(train_x, train_target, epochs=30)"
   ]
  },
  {
   "cell_type": "markdown",
   "id": "ad30ec17",
   "metadata": {},
   "source": [
    "### Predict"
   ]
  },
  {
   "cell_type": "code",
   "execution_count": 60,
   "id": "32828043",
   "metadata": {},
   "outputs": [
    {
     "name": "stdout",
     "output_type": "stream",
     "text": [
      "1/1 [==============================] - 0s 178ms/step\n"
     ]
    }
   ],
   "source": [
    "#Predict:\n",
    "y_pred = model.predict(test_x)"
   ]
  },
  {
   "cell_type": "code",
   "execution_count": 61,
   "id": "a27da450",
   "metadata": {},
   "outputs": [],
   "source": [
    "#Remember, these are standardized values. \n",
    "\n",
    "comparison = pd.DataFrame()\n",
    "\n",
    "comparison['actual'] = scaler.inverse_transform([test_target]).flatten()\n",
    "comparison['predicted'] = scaler.inverse_transform(y_pred).flatten()"
   ]
  },
  {
   "cell_type": "code",
   "execution_count": 62,
   "id": "464abbaa",
   "metadata": {},
   "outputs": [
    {
     "data": {
      "text/plain": [
       "0.5969363875231769"
      ]
     },
     "execution_count": 62,
     "metadata": {},
     "output_type": "execute_result"
    }
   ],
   "source": [
    "mean_squared_error(comparison['actual'], comparison['predicted'])"
   ]
  },
  {
   "cell_type": "code",
   "execution_count": 63,
   "id": "bd6560e7",
   "metadata": {},
   "outputs": [
    {
     "data": {
      "image/png": "[encoded data removed]",
      "text/plain": [
       "<Figure size 640x480 with 1 Axes>"
      ]
     },
     "metadata": {},
     "output_type": "display_data"
    }
   ],
   "source": [
    "plt.plot(comparison['actual'], label = 'actual')\n",
    "plt.plot(comparison['predicted'], label = 'predicted')\n",
    "\n",
    "plt.legend()\n",
    "\n",
    "plt.show()"
   ]
  },
  {
   "cell_type": "markdown",
   "id": "316fb971",
   "metadata": {},
   "source": [
    "### LSTM with more layers"
   ]
  },
  {
   "cell_type": "code",
   "execution_count": 64,
   "id": "27c569a4",
   "metadata": {},
   "outputs": [],
   "source": [
    "model = keras.models.Sequential([\n",
    "    keras.layers.LSTM(32, activation='tanh', return_sequences=True, input_shape=[9, 1]),\n",
    "    keras.layers.LSTM(32, activation='tanh', return_sequences=False),\n",
    "    keras.layers.Dense(1, activation=None)\n",
    "])"
   ]
  },
  {
   "cell_type": "code",
   "execution_count": 65,
   "id": "88618221",
   "metadata": {},
   "outputs": [
    {
     "name": "stdout",
     "output_type": "stream",
     "text": [
      "Epoch 1/30\n",
      "1/1 [==============================] - 5s 5s/step - loss: 1.5832\n",
      "Epoch 2/30\n",
      "1/1 [==============================] - 0s 8ms/step - loss: 1.5025\n",
      "Epoch 3/30\n",
      "1/1 [==============================] - 0s 16ms/step - loss: 1.4245\n",
      "Epoch 4/30\n",
      "1/1 [==============================] - 0s 14ms/step - loss: 1.3487\n",
      "Epoch 5/30\n",
      "1/1 [==============================] - 0s 10ms/step - loss: 1.2746\n",
      "Epoch 6/30\n",
      "1/1 [==============================] - 0s 8ms/step - loss: 1.2018\n",
      "Epoch 7/30\n",
      "1/1 [==============================] - 0s 18ms/step - loss: 1.1297\n",
      "Epoch 8/30\n",
      "1/1 [==============================] - 0s 12ms/step - loss: 1.0582\n",
      "Epoch 9/30\n",
      "1/1 [==============================] - 0s 0s/step - loss: 0.9868\n",
      "Epoch 10/30\n",
      "1/1 [==============================] - 0s 18ms/step - loss: 0.9155\n",
      "Epoch 11/30\n",
      "1/1 [==============================] - 0s 6ms/step - loss: 0.8442\n",
      "Epoch 12/30\n",
      "1/1 [==============================] - 0s 16ms/step - loss: 0.7730\n",
      "Epoch 13/30\n",
      "1/1 [==============================] - 0s 0s/step - loss: 0.7023\n",
      "Epoch 14/30\n",
      "1/1 [==============================] - 0s 1ms/step - loss: 0.6324\n",
      "Epoch 15/30\n",
      "1/1 [==============================] - 0s 23ms/step - loss: 0.5640\n",
      "Epoch 16/30\n",
      "1/1 [==============================] - 0s 12ms/step - loss: 0.4979\n",
      "Epoch 17/30\n",
      "1/1 [==============================] - 0s 10ms/step - loss: 0.4351\n",
      "Epoch 18/30\n",
      "1/1 [==============================] - 0s 0s/step - loss: 0.3770\n",
      "Epoch 19/30\n",
      "1/1 [==============================] - 0s 22ms/step - loss: 0.3248\n",
      "Epoch 20/30\n",
      "1/1 [==============================] - 0s 13ms/step - loss: 0.2800\n",
      "Epoch 21/30\n",
      "1/1 [==============================] - 0s 15ms/step - loss: 0.2438\n",
      "Epoch 22/30\n",
      "1/1 [==============================] - 0s 11ms/step - loss: 0.2174\n",
      "Epoch 23/30\n",
      "1/1 [==============================] - 0s 7ms/step - loss: 0.2011\n",
      "Epoch 24/30\n",
      "1/1 [==============================] - 0s 14ms/step - loss: 0.1945\n",
      "Epoch 25/30\n",
      "1/1 [==============================] - 0s 13ms/step - loss: 0.1958\n",
      "Epoch 26/30\n",
      "1/1 [==============================] - 0s 16ms/step - loss: 0.2021\n",
      "Epoch 27/30\n",
      "1/1 [==============================] - 0s 0s/step - loss: 0.2095\n",
      "Epoch 28/30\n",
      "1/1 [==============================] - 0s 0s/step - loss: 0.2150\n",
      "Epoch 29/30\n",
      "1/1 [==============================] - 0s 20ms/step - loss: 0.2169\n",
      "Epoch 30/30\n",
      "1/1 [==============================] - 0s 15ms/step - loss: 0.2148\n"
     ]
    }
   ],
   "source": [
    "np.random.seed(42)\n",
    "tf.random.set_seed(42)\n",
    "\n",
    "model.compile(loss=\"mse\", optimizer='Adam')\n",
    "\n",
    "history = model.fit(train_x, train_target, epochs=30)"
   ]
  },
  {
   "cell_type": "markdown",
   "id": "0d3352c4",
   "metadata": {},
   "source": [
    "### Predcitions"
   ]
  },
  {
   "cell_type": "code",
   "execution_count": 66,
   "id": "89ca273e",
   "metadata": {},
   "outputs": [
    {
     "name": "stdout",
     "output_type": "stream",
     "text": [
      "WARNING:tensorflow:5 out of the last 5 calls to <function Model.make_predict_function.<locals>.predict_function at 0x0000013426FB6430> triggered tf.function retracing. Tracing is expensive and the excessive number of tracings could be due to (1) creating @tf.function repeatedly in a loop, (2) passing tensors with different shapes, (3) passing Python objects instead of tensors. For (1), please define your @tf.function outside of the loop. For (2), @tf.function has reduce_retracing=True option that can avoid unnecessary retracing. For (3), please refer to https://www.tensorflow.org/guide/function#controlling_retracing and https://www.tensorflow.org/api_docs/python/tf/function for  more details.\n",
      "1/1 [==============================] - 2s 2s/step\n"
     ]
    }
   ],
   "source": [
    "#Predict:\n",
    "y_pred = model.predict(test_x)"
   ]
  },
  {
   "cell_type": "code",
   "execution_count": 67,
   "id": "c908ff88",
   "metadata": {},
   "outputs": [],
   "source": [
    "#Remember, these are standardized values. \n",
    "\n",
    "comparison = pd.DataFrame()\n",
    "\n",
    "comparison['actual'] = scaler.inverse_transform([test_target]).flatten()\n",
    "comparison['predicted'] = scaler.inverse_transform(y_pred).flatten()"
   ]
  },
  {
   "cell_type": "code",
   "execution_count": 68,
   "id": "2c6bbe47",
   "metadata": {},
   "outputs": [
    {
     "data": {
      "text/plain": [
       "2.406388908097142"
      ]
     },
     "execution_count": 68,
     "metadata": {},
     "output_type": "execute_result"
    }
   ],
   "source": [
    "mean_squared_error(comparison['actual'], comparison['predicted'])"
   ]
  },
  {
   "cell_type": "code",
   "execution_count": 69,
   "id": "8273ce0f",
   "metadata": {},
   "outputs": [
    {
     "data": {
      "image/png": "[encoded data removed]",
      "text/plain": [
       "<Figure size 640x480 with 1 Axes>"
      ]
     },
     "metadata": {},
     "output_type": "display_data"
    }
   ],
   "source": [
    "plt.plot(comparison['actual'], label = 'actual')\n",
    "plt.plot(comparison['predicted'], label = 'predicted')\n",
    "\n",
    "plt.legend()\n",
    "\n",
    "plt.show()"
   ]
  },
  {
   "cell_type": "markdown",
   "id": "b0e20964",
   "metadata": {},
   "source": [
    "### GRU (with more layers)"
   ]
  },
  {
   "cell_type": "code",
   "execution_count": 70,
   "id": "0c2ac6dd",
   "metadata": {},
   "outputs": [],
   "source": [
    "model = keras.models.Sequential([\n",
    "    keras.layers.GRU(32, activation='relu', return_sequences=True, input_shape=[9, 1]),\n",
    "    keras.layers.GRU(32, activation='relu', return_sequences=False),\n",
    "    keras.layers.Dense(1, activation=None)\n",
    "])"
   ]
  },
  {
   "cell_type": "code",
   "execution_count": 71,
   "id": "feb12eb3",
   "metadata": {},
   "outputs": [
    {
     "name": "stdout",
     "output_type": "stream",
     "text": [
      "Epoch 1/30\n",
      "1/1 [==============================] - 4s 4s/step - loss: 1.4979\n",
      "Epoch 2/30\n",
      "1/1 [==============================] - 0s 23ms/step - loss: 1.3702\n",
      "Epoch 3/30\n",
      "1/1 [==============================] - 0s 22ms/step - loss: 1.2778\n",
      "Epoch 4/30\n",
      "1/1 [==============================] - 0s 3ms/step - loss: 1.2024\n",
      "Epoch 5/30\n",
      "1/1 [==============================] - 0s 19ms/step - loss: 1.1353\n",
      "Epoch 6/30\n",
      "1/1 [==============================] - 0s 21ms/step - loss: 1.0753\n",
      "Epoch 7/30\n",
      "1/1 [==============================] - 0s 4ms/step - loss: 1.0188\n",
      "Epoch 8/30\n",
      "1/1 [==============================] - 0s 28ms/step - loss: 0.9647\n",
      "Epoch 9/30\n",
      "1/1 [==============================] - 0s 15ms/step - loss: 0.9121\n",
      "Epoch 10/30\n",
      "1/1 [==============================] - 0s 9ms/step - loss: 0.8608\n",
      "Epoch 11/30\n",
      "1/1 [==============================] - 0s 21ms/step - loss: 0.8118\n",
      "Epoch 12/30\n",
      "1/1 [==============================] - 0s 3ms/step - loss: 0.7662\n",
      "Epoch 13/30\n",
      "1/1 [==============================] - 0s 26ms/step - loss: 0.7215\n",
      "Epoch 14/30\n",
      "1/1 [==============================] - 0s 3ms/step - loss: 0.6775\n",
      "Epoch 15/30\n",
      "1/1 [==============================] - 0s 27ms/step - loss: 0.6338\n",
      "Epoch 16/30\n",
      "1/1 [==============================] - 0s 17ms/step - loss: 0.5901\n",
      "Epoch 17/30\n",
      "1/1 [==============================] - 0s 11ms/step - loss: 0.5463\n",
      "Epoch 18/30\n",
      "1/1 [==============================] - 0s 20ms/step - loss: 0.5023\n",
      "Epoch 19/30\n",
      "1/1 [==============================] - 0s 3ms/step - loss: 0.4583\n",
      "Epoch 20/30\n",
      "1/1 [==============================] - 0s 27ms/step - loss: 0.4148\n",
      "Epoch 21/30\n",
      "1/1 [==============================] - 0s 0s/step - loss: 0.3724\n",
      "Epoch 22/30\n",
      "1/1 [==============================] - 0s 13ms/step - loss: 0.3314\n",
      "Epoch 23/30\n",
      "1/1 [==============================] - 0s 17ms/step - loss: 0.2920\n",
      "Epoch 24/30\n",
      "1/1 [==============================] - 0s 3ms/step - loss: 0.2551\n",
      "Epoch 25/30\n",
      "1/1 [==============================] - 0s 26ms/step - loss: 0.2209\n",
      "Epoch 26/30\n",
      "1/1 [==============================] - 0s 0s/step - loss: 0.1900\n",
      "Epoch 27/30\n",
      "1/1 [==============================] - 0s 10ms/step - loss: 0.1628\n",
      "Epoch 28/30\n",
      "1/1 [==============================] - 0s 19ms/step - loss: 0.1398\n",
      "Epoch 29/30\n",
      "1/1 [==============================] - 0s 4ms/step - loss: 0.1208\n",
      "Epoch 30/30\n",
      "1/1 [==============================] - 0s 26ms/step - loss: 0.1052\n"
     ]
    }
   ],
   "source": [
    "np.random.seed(42)\n",
    "tf.random.set_seed(42)\n",
    "\n",
    "model.compile(loss=\"mse\", optimizer='RMSprop')\n",
    "\n",
    "history = model.fit(train_x, train_target, epochs=30)"
   ]
  },
  {
   "cell_type": "markdown",
   "id": "4c6e4927",
   "metadata": {},
   "source": [
    "### Predictions"
   ]
  },
  {
   "cell_type": "code",
   "execution_count": 72,
   "id": "a37c0868",
   "metadata": {},
   "outputs": [
    {
     "name": "stdout",
     "output_type": "stream",
     "text": [
      "WARNING:tensorflow:6 out of the last 6 calls to <function Model.make_predict_function.<locals>.predict_function at 0x000001342DF99280> triggered tf.function retracing. Tracing is expensive and the excessive number of tracings could be due to (1) creating @tf.function repeatedly in a loop, (2) passing tensors with different shapes, (3) passing Python objects instead of tensors. For (1), please define your @tf.function outside of the loop. For (2), @tf.function has reduce_retracing=True option that can avoid unnecessary retracing. For (3), please refer to https://www.tensorflow.org/guide/function#controlling_retracing and https://www.tensorflow.org/api_docs/python/tf/function for  more details.\n",
      "1/1 [==============================] - 0s 451ms/step\n"
     ]
    }
   ],
   "source": [
    "#Predict:\n",
    "y_pred = model.predict(test_x)"
   ]
  },
  {
   "cell_type": "code",
   "execution_count": 73,
   "id": "400475c9",
   "metadata": {},
   "outputs": [],
   "source": [
    "#Remember, these are standardized values. \n",
    "\n",
    "comparison = pd.DataFrame()\n",
    "\n",
    "comparison['actual'] = scaler.inverse_transform([test_target]).flatten()\n",
    "comparison['predicted'] = scaler.inverse_transform(y_pred).flatten()"
   ]
  },
  {
   "cell_type": "code",
   "execution_count": 74,
   "id": "e9643551",
   "metadata": {},
   "outputs": [
    {
     "data": {
      "text/plain": [
       "0.6548608791532994"
      ]
     },
     "execution_count": 74,
     "metadata": {},
     "output_type": "execute_result"
    }
   ],
   "source": [
    "mean_squared_error(comparison['actual'], comparison['predicted'])"
   ]
  },
  {
   "cell_type": "code",
   "execution_count": 75,
   "id": "b5a5606f",
   "metadata": {},
   "outputs": [
    {
     "data": {
      "image/png": "[encoded data removed]",
      "text/plain": [
       "<Figure size 640x480 with 1 Axes>"
      ]
     },
     "metadata": {},
     "output_type": "display_data"
    }
   ],
   "source": [
    "plt.plot(comparison['actual'], label = 'actual')\n",
    "plt.plot(comparison['predicted'], label = 'predicted')\n",
    "\n",
    "plt.legend()\n",
    "\n",
    "plt.show()"
   ]
  },
  {
   "cell_type": "markdown",
   "id": "10314f64",
   "metadata": {},
   "source": [
    "### Conv1D"
   ]
  },
  {
   "cell_type": "code",
   "execution_count": 76,
   "id": "b8bf6211",
   "metadata": {},
   "outputs": [],
   "source": [
    "model = keras.models.Sequential([\n",
    "    keras.layers.Conv1D(filters=20, kernel_size=3, strides=1, padding=\"valid\", input_shape=[9, 1]),\n",
    "    keras.layers.GRU(32, activation='relu', return_sequences=True),\n",
    "    keras.layers.GRU(32, activation='relu', return_sequences=False),\n",
    "    keras.layers.Dense(1, activation=None)\n",
    "])"
   ]
  },
  {
   "cell_type": "code",
   "execution_count": 77,
   "id": "afbbd800",
   "metadata": {},
   "outputs": [
    {
     "name": "stdout",
     "output_type": "stream",
     "text": [
      "Epoch 1/30\n",
      "1/1 [==============================] - 5s 5s/step - loss: 1.3948\n",
      "Epoch 2/30\n",
      "1/1 [==============================] - 0s 237ms/step - loss: 1.3469\n",
      "Epoch 3/30\n",
      "1/1 [==============================] - 0s 202ms/step - loss: 1.2993\n",
      "Epoch 4/30\n",
      "1/1 [==============================] - 0s 220ms/step - loss: 1.2520\n",
      "Epoch 5/30\n",
      "1/1 [==============================] - 0s 209ms/step - loss: 1.2057\n",
      "Epoch 6/30\n",
      "1/1 [==============================] - 0s 238ms/step - loss: 1.1594\n",
      "Epoch 7/30\n",
      "1/1 [==============================] - 0s 233ms/step - loss: 1.1128\n",
      "Epoch 8/30\n",
      "1/1 [==============================] - 0s 222ms/step - loss: 1.0657\n",
      "Epoch 9/30\n",
      "1/1 [==============================] - 0s 224ms/step - loss: 1.0177\n",
      "Epoch 10/30\n",
      "1/1 [==============================] - 0s 217ms/step - loss: 0.9669\n",
      "Epoch 11/30\n",
      "1/1 [==============================] - 0s 216ms/step - loss: 0.9135\n",
      "Epoch 12/30\n",
      "1/1 [==============================] - 0s 205ms/step - loss: 0.8571\n",
      "Epoch 13/30\n",
      "1/1 [==============================] - 0s 217ms/step - loss: 0.7980\n",
      "Epoch 14/30\n",
      "1/1 [==============================] - 0s 223ms/step - loss: 0.7367\n",
      "Epoch 15/30\n",
      "1/1 [==============================] - 0s 213ms/step - loss: 0.6748\n",
      "Epoch 16/30\n",
      "1/1 [==============================] - 0s 215ms/step - loss: 0.6123\n",
      "Epoch 17/30\n",
      "1/1 [==============================] - 0s 263ms/step - loss: 0.5490\n",
      "Epoch 18/30\n",
      "1/1 [==============================] - 0s 233ms/step - loss: 0.4855\n",
      "Epoch 19/30\n",
      "1/1 [==============================] - 0s 218ms/step - loss: 0.4227\n",
      "Epoch 20/30\n",
      "1/1 [==============================] - 0s 247ms/step - loss: 0.3614\n",
      "Epoch 21/30\n",
      "1/1 [==============================] - 0s 208ms/step - loss: 0.3032\n",
      "Epoch 22/30\n",
      "1/1 [==============================] - 0s 232ms/step - loss: 0.2495\n",
      "Epoch 23/30\n",
      "1/1 [==============================] - 0s 233ms/step - loss: 0.2024\n",
      "Epoch 24/30\n",
      "1/1 [==============================] - 0s 218ms/step - loss: 0.1637\n",
      "Epoch 25/30\n",
      "1/1 [==============================] - 0s 215ms/step - loss: 0.1355\n",
      "Epoch 26/30\n",
      "1/1 [==============================] - 0s 220ms/step - loss: 0.1194\n",
      "Epoch 27/30\n",
      "1/1 [==============================] - 0s 210ms/step - loss: 0.1159\n",
      "Epoch 28/30\n",
      "1/1 [==============================] - 0s 218ms/step - loss: 0.1225\n",
      "Epoch 29/30\n",
      "1/1 [==============================] - 0s 218ms/step - loss: 0.1338\n",
      "Epoch 30/30\n",
      "1/1 [==============================] - 0s 220ms/step - loss: 0.1430\n"
     ]
    }
   ],
   "source": [
    "np.random.seed(42)\n",
    "tf.random.set_seed(42)\n",
    "\n",
    "model.compile(loss=\"mse\", optimizer='Adam')\n",
    "\n",
    "history = model.fit(train_x, train_target, epochs=30)"
   ]
  },
  {
   "cell_type": "markdown",
   "id": "4c093153",
   "metadata": {},
   "source": [
    "### Predictions"
   ]
  },
  {
   "cell_type": "code",
   "execution_count": 78,
   "id": "c3680419",
   "metadata": {},
   "outputs": [
    {
     "name": "stdout",
     "output_type": "stream",
     "text": [
      "1/1 [==============================] - 0s 484ms/step\n"
     ]
    }
   ],
   "source": [
    "#Predict:\n",
    "y_pred = model.predict(test_x)"
   ]
  },
  {
   "cell_type": "code",
   "execution_count": 79,
   "id": "b05b3df0",
   "metadata": {},
   "outputs": [],
   "source": [
    "#Remember, these are standardized values. \n",
    "\n",
    "comparison = pd.DataFrame()\n",
    "\n",
    "comparison['actual'] = scaler.inverse_transform([test_target]).flatten()\n",
    "comparison['predicted'] = scaler.inverse_transform(y_pred).flatten()"
   ]
  },
  {
   "cell_type": "code",
   "execution_count": 80,
   "id": "13a4c337",
   "metadata": {},
   "outputs": [
    {
     "data": {
      "text/plain": [
       "0.46919455350810796"
      ]
     },
     "execution_count": 80,
     "metadata": {},
     "output_type": "execute_result"
    }
   ],
   "source": [
    "mean_squared_error(comparison['actual'], comparison['predicted'])"
   ]
  },
  {
   "cell_type": "markdown",
   "id": "27d71a85",
   "metadata": {},
   "source": [
    "\n",
    "The LSTM model with multiple layers has a significantly higher RMSE of 2.40, indicating that adding more layers to the LSTM model did not improve its performance on this dataset.\n",
    "\n",
    "The provided RMSE value of 0.10 for Simple RNN indicates that it performs the best among all the models on the given datase. However, it is important to note that other factors, such as the model's interpretability and training time, should also be considered when selecting the best model for a particular problem.\n",
    "\n",
    "\n",
    "\n",
    "\n"
   ]
  },
  {
   "cell_type": "markdown",
   "id": "a2650709",
   "metadata": {},
   "source": [
    "### In this case Simple RNN  performed better than other models with less rmse value"
   ]
  },
  {
   "cell_type": "code",
   "execution_count": null,
   "id": "dc48be3c",
   "metadata": {},
   "outputs": [],
   "source": []
  }
 ],
 "metadata": {
  "kernelspec": {
   "display_name": "Python 3 (ipykernel)",
   "language": "python",
   "name": "python3"
  },
  "language_info": {
   "codemirror_mode": {
    "name": "ipython",
    "version": 3
   },
   "file_extension": ".py",
   "mimetype": "text/x-python",
   "name": "python",
   "nbconvert_exporter": "python",
   "pygments_lexer": "ipython3",
   "version": "3.9.13"
  }
 },
 "nbformat": 4,
 "nbformat_minor": 5
}
